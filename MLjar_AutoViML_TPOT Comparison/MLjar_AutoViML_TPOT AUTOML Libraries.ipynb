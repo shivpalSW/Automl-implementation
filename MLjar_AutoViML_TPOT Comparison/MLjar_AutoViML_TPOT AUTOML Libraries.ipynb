{
 "cells": [
  {
   "cell_type": "markdown",
   "metadata": {},
   "source": [
    "# <font color= darkblue><i>  We will compare automl(MLjar, AutoviML,TPOT) aggregations with normal algorithms(Random Forest, SVC, Logistic Regression, XGBoost) on  financial dataset."
   ]
  },
  {
   "cell_type": "code",
   "execution_count": 1,
   "metadata": {
    "_cell_guid": "b1076dfc-b9ad-4769-8c92-a6c4dae69d19",
    "_uuid": "8f2839f25d086af736a60e9eeb907d3b93b6e0e5"
   },
   "outputs": [
    {
     "name": "stdout",
     "output_type": "stream",
     "text": [
      "/kaggle/input/esigning-of-loan-based-on-financial-history/financial_data.csv\n"
     ]
    }
   ],
   "source": [
    "# This Python 3 environment comes with many helpful analytics libraries installed\n",
    "\n",
    "import numpy as np # linear algebra\n",
    "import pandas as pd # data processing, CSV file I/O (e.g. pd.read_csv)\n",
    "\n",
    "import os\n",
    "from tqdm.notebook import tqdm, trange\n",
    "!pip install ipywidgets\n",
    "!jupyter nbextension enable --py widgetsnbextension\n",
    "\n",
    "#from sklearn.metrics import plot_precision_recall_curve, plot_roc_curve\n",
    "from sklearn.metrics import classification_report\n",
    "import matplotlib.pyplot as plt\n",
    "\n",
    "import time\n",
    "\n",
    "import warnings\n",
    "warnings.filterwarnings(\"ignore\")\n",
    "# Dataset Link= https://www.kaggle.com/code/aniruddhachoudhury/e-signing-of-loan-based-on-financial-history/data"
   ]
  },
  {
   "cell_type": "code",
   "execution_count": 2,
   "metadata": {},
   "outputs": [],
   "source": [
    "df = pd.read_csv(\"financial_data.csv\")"
   ]
  },
  {
   "cell_type": "code",
   "execution_count": 4,
   "metadata": {},
   "outputs": [
    {
     "data": {
      "text/html": [
       "<div>\n",
       "<style scoped>\n",
       "    .dataframe tbody tr th:only-of-type {\n",
       "        vertical-align: middle;\n",
       "    }\n",
       "\n",
       "    .dataframe tbody tr th {\n",
       "        vertical-align: top;\n",
       "    }\n",
       "\n",
       "    .dataframe thead th {\n",
       "        text-align: right;\n",
       "    }\n",
       "</style>\n",
       "<table border=\"1\" class=\"dataframe\">\n",
       "  <thead>\n",
       "    <tr style=\"text-align: right;\">\n",
       "      <th></th>\n",
       "      <th>age</th>\n",
       "      <th>pay_schedule</th>\n",
       "      <th>home_owner</th>\n",
       "      <th>income</th>\n",
       "      <th>months_employed</th>\n",
       "      <th>years_employed</th>\n",
       "      <th>current_address_year</th>\n",
       "      <th>personal_account_m</th>\n",
       "      <th>personal_account_y</th>\n",
       "      <th>has_debt</th>\n",
       "      <th>amount_requested</th>\n",
       "      <th>risk_score</th>\n",
       "      <th>risk_score_2</th>\n",
       "      <th>risk_score_3</th>\n",
       "      <th>risk_score_4</th>\n",
       "      <th>risk_score_5</th>\n",
       "      <th>ext_quality_score</th>\n",
       "      <th>ext_quality_score_2</th>\n",
       "      <th>inquiries_last_month</th>\n",
       "      <th>e_signed</th>\n",
       "    </tr>\n",
       "  </thead>\n",
       "  <tbody>\n",
       "    <tr>\n",
       "      <th>0</th>\n",
       "      <td>40</td>\n",
       "      <td>bi-weekly</td>\n",
       "      <td>1</td>\n",
       "      <td>3135</td>\n",
       "      <td>0</td>\n",
       "      <td>3</td>\n",
       "      <td>3</td>\n",
       "      <td>6</td>\n",
       "      <td>2</td>\n",
       "      <td>1</td>\n",
       "      <td>550</td>\n",
       "      <td>36200</td>\n",
       "      <td>0.737398</td>\n",
       "      <td>0.903517</td>\n",
       "      <td>0.487712</td>\n",
       "      <td>0.515977</td>\n",
       "      <td>0.580918</td>\n",
       "      <td>0.380918</td>\n",
       "      <td>10</td>\n",
       "      <td>1</td>\n",
       "    </tr>\n",
       "    <tr>\n",
       "      <th>1</th>\n",
       "      <td>61</td>\n",
       "      <td>weekly</td>\n",
       "      <td>0</td>\n",
       "      <td>3180</td>\n",
       "      <td>0</td>\n",
       "      <td>6</td>\n",
       "      <td>3</td>\n",
       "      <td>2</td>\n",
       "      <td>7</td>\n",
       "      <td>1</td>\n",
       "      <td>600</td>\n",
       "      <td>30150</td>\n",
       "      <td>0.738510</td>\n",
       "      <td>0.881027</td>\n",
       "      <td>0.713423</td>\n",
       "      <td>0.826402</td>\n",
       "      <td>0.730720</td>\n",
       "      <td>0.630720</td>\n",
       "      <td>9</td>\n",
       "      <td>0</td>\n",
       "    </tr>\n",
       "    <tr>\n",
       "      <th>2</th>\n",
       "      <td>23</td>\n",
       "      <td>weekly</td>\n",
       "      <td>0</td>\n",
       "      <td>1540</td>\n",
       "      <td>6</td>\n",
       "      <td>0</td>\n",
       "      <td>0</td>\n",
       "      <td>7</td>\n",
       "      <td>1</td>\n",
       "      <td>1</td>\n",
       "      <td>450</td>\n",
       "      <td>34550</td>\n",
       "      <td>0.642993</td>\n",
       "      <td>0.766554</td>\n",
       "      <td>0.595018</td>\n",
       "      <td>0.762284</td>\n",
       "      <td>0.531712</td>\n",
       "      <td>0.531712</td>\n",
       "      <td>7</td>\n",
       "      <td>0</td>\n",
       "    </tr>\n",
       "    <tr>\n",
       "      <th>3</th>\n",
       "      <td>40</td>\n",
       "      <td>bi-weekly</td>\n",
       "      <td>0</td>\n",
       "      <td>5230</td>\n",
       "      <td>0</td>\n",
       "      <td>6</td>\n",
       "      <td>1</td>\n",
       "      <td>2</td>\n",
       "      <td>7</td>\n",
       "      <td>1</td>\n",
       "      <td>700</td>\n",
       "      <td>42150</td>\n",
       "      <td>0.665224</td>\n",
       "      <td>0.960832</td>\n",
       "      <td>0.767828</td>\n",
       "      <td>0.778831</td>\n",
       "      <td>0.792552</td>\n",
       "      <td>0.592552</td>\n",
       "      <td>8</td>\n",
       "      <td>1</td>\n",
       "    </tr>\n",
       "    <tr>\n",
       "      <th>4</th>\n",
       "      <td>33</td>\n",
       "      <td>semi-monthly</td>\n",
       "      <td>0</td>\n",
       "      <td>3590</td>\n",
       "      <td>0</td>\n",
       "      <td>5</td>\n",
       "      <td>2</td>\n",
       "      <td>2</td>\n",
       "      <td>8</td>\n",
       "      <td>1</td>\n",
       "      <td>1100</td>\n",
       "      <td>53850</td>\n",
       "      <td>0.617361</td>\n",
       "      <td>0.857560</td>\n",
       "      <td>0.613487</td>\n",
       "      <td>0.665523</td>\n",
       "      <td>0.744634</td>\n",
       "      <td>0.744634</td>\n",
       "      <td>12</td>\n",
       "      <td>0</td>\n",
       "    </tr>\n",
       "  </tbody>\n",
       "</table>\n",
       "</div>"
      ],
      "text/plain": [
       "   age  pay_schedule  home_owner  income  months_employed  years_employed  \\\n",
       "0   40     bi-weekly           1    3135                0               3   \n",
       "1   61        weekly           0    3180                0               6   \n",
       "2   23        weekly           0    1540                6               0   \n",
       "3   40     bi-weekly           0    5230                0               6   \n",
       "4   33  semi-monthly           0    3590                0               5   \n",
       "\n",
       "   current_address_year  personal_account_m  personal_account_y  has_debt  \\\n",
       "0                     3                   6                   2         1   \n",
       "1                     3                   2                   7         1   \n",
       "2                     0                   7                   1         1   \n",
       "3                     1                   2                   7         1   \n",
       "4                     2                   2                   8         1   \n",
       "\n",
       "   amount_requested  risk_score  risk_score_2  risk_score_3  risk_score_4  \\\n",
       "0               550       36200      0.737398      0.903517      0.487712   \n",
       "1               600       30150      0.738510      0.881027      0.713423   \n",
       "2               450       34550      0.642993      0.766554      0.595018   \n",
       "3               700       42150      0.665224      0.960832      0.767828   \n",
       "4              1100       53850      0.617361      0.857560      0.613487   \n",
       "\n",
       "   risk_score_5  ext_quality_score  ext_quality_score_2  inquiries_last_month  \\\n",
       "0      0.515977           0.580918             0.380918                    10   \n",
       "1      0.826402           0.730720             0.630720                     9   \n",
       "2      0.762284           0.531712             0.531712                     7   \n",
       "3      0.778831           0.792552             0.592552                     8   \n",
       "4      0.665523           0.744634             0.744634                    12   \n",
       "\n",
       "   e_signed  \n",
       "0         1  \n",
       "1         0  \n",
       "2         0  \n",
       "3         1  \n",
       "4         0  "
      ]
     },
     "execution_count": 4,
     "metadata": {},
     "output_type": "execute_result"
    }
   ],
   "source": [
    "df.head()"
   ]
  },
  {
   "cell_type": "code",
   "execution_count": 3,
   "metadata": {},
   "outputs": [],
   "source": [
    "df.drop(columns=[\"entry_id\"], axis = 1, inplace=True)"
   ]
  },
  {
   "cell_type": "code",
   "execution_count": 5,
   "metadata": {},
   "outputs": [],
   "source": [
    "df = df.dropna()"
   ]
  },
  {
   "cell_type": "markdown",
   "metadata": {},
   "source": [
    "# <font color= darkblue><i> 1.MLJAR(AutoML) ALgorithm"
   ]
  },
  {
   "cell_type": "code",
   "execution_count": 6,
   "metadata": {
    "scrolled": false
   },
   "outputs": [
    {
     "name": "stdout",
     "output_type": "stream",
     "text": [
      "Collecting mljar-supervised\n",
      "  Downloading mljar-supervised-0.10.2.tar.gz (94 kB)\n",
      "\u001b[K     |████████████████████████████████| 94 kB 828 kB/s eta 0:00:011\n",
      "\u001b[?25hRequirement already satisfied: numpy<1.20.0 in /opt/conda/lib/python3.7/site-packages (from mljar-supervised) (1.19.5)\n",
      "Requirement already satisfied: pandas==1.2.0 in /opt/conda/lib/python3.7/site-packages (from mljar-supervised) (1.2.0)\n",
      "Collecting scipy==1.6.1\n",
      "  Downloading scipy-1.6.1-cp37-cp37m-manylinux1_x86_64.whl (27.4 MB)\n",
      "\u001b[K     |████████████████████████████████| 27.4 MB 16.3 MB/s eta 0:00:01   |▌                               | 389 kB 4.5 MB/s eta 0:00:07\n",
      "\u001b[?25hRequirement already satisfied: scikit-learn==0.24.1 in /opt/conda/lib/python3.7/site-packages (from mljar-supervised) (0.24.1)\n",
      "Requirement already satisfied: xgboost==1.3.3 in /opt/conda/lib/python3.7/site-packages (from mljar-supervised) (1.3.3)\n",
      "Collecting lightgbm==3.0.0\n",
      "  Downloading lightgbm-3.0.0-py2.py3-none-manylinux1_x86_64.whl (1.7 MB)\n",
      "\u001b[K     |████████████████████████████████| 1.7 MB 50.9 MB/s eta 0:00:01\n",
      "\u001b[?25hRequirement already satisfied: catboost==0.24.4 in /opt/conda/lib/python3.7/site-packages (from mljar-supervised) (0.24.4)\n",
      "Collecting joblib==1.0.1\n",
      "  Downloading joblib-1.0.1-py3-none-any.whl (303 kB)\n",
      "\u001b[K     |████████████████████████████████| 303 kB 32.3 MB/s eta 0:00:01\n",
      "\u001b[?25hCollecting cloudpickle==1.3.0\n",
      "  Downloading cloudpickle-1.3.0-py2.py3-none-any.whl (26 kB)\n",
      "Requirement already satisfied: pyarrow>=2.0.0 in /opt/conda/lib/python3.7/site-packages (from mljar-supervised) (2.0.0)\n",
      "Collecting tabulate==0.8.7\n",
      "  Downloading tabulate-0.8.7-py3-none-any.whl (24 kB)\n",
      "Requirement already satisfied: matplotlib>=3.2.2 in /opt/conda/lib/python3.7/site-packages (from mljar-supervised) (3.3.3)\n",
      "Collecting dtreeviz==1.0\n",
      "  Downloading dtreeviz-1.0.tar.gz (42 kB)\n",
      "\u001b[K     |████████████████████████████████| 42 kB 439 kB/s  eta 0:00:01\n",
      "\u001b[?25hCollecting shap==0.36.0\n",
      "  Downloading shap-0.36.0.tar.gz (319 kB)\n",
      "\u001b[K     |████████████████████████████████| 319 kB 45.1 MB/s eta 0:00:01\n",
      "\u001b[?25hCollecting seaborn==0.10.1\n",
      "  Downloading seaborn-0.10.1-py3-none-any.whl (215 kB)\n",
      "\u001b[K     |████████████████████████████████| 215 kB 43.3 MB/s eta 0:00:01\n",
      "\u001b[?25hRequirement already satisfied: wordcloud==1.8.1 in /opt/conda/lib/python3.7/site-packages (from mljar-supervised) (1.8.1)\n",
      "Requirement already satisfied: category_encoders==2.2.2 in /opt/conda/lib/python3.7/site-packages (from mljar-supervised) (2.2.2)\n",
      "Collecting optuna==2.6.0\n",
      "  Downloading optuna-2.6.0-py3-none-any.whl (293 kB)\n",
      "\u001b[K     |████████████████████████████████| 293 kB 50.3 MB/s eta 0:00:01\n",
      "\u001b[?25hRequirement already satisfied: plotly in /opt/conda/lib/python3.7/site-packages (from catboost==0.24.4->mljar-supervised) (4.14.3)\n",
      "Requirement already satisfied: graphviz in /opt/conda/lib/python3.7/site-packages (from catboost==0.24.4->mljar-supervised) (0.8.4)\n",
      "Requirement already satisfied: six in /opt/conda/lib/python3.7/site-packages (from catboost==0.24.4->mljar-supervised) (1.15.0)\n",
      "Requirement already satisfied: patsy>=0.5.1 in /opt/conda/lib/python3.7/site-packages (from category_encoders==2.2.2->mljar-supervised) (0.5.1)\n",
      "Requirement already satisfied: statsmodels>=0.9.0 in /opt/conda/lib/python3.7/site-packages (from category_encoders==2.2.2->mljar-supervised) (0.12.1)\n",
      "Collecting graphviz\n",
      "  Downloading graphviz-0.16-py2.py3-none-any.whl (19 kB)\n",
      "Collecting colour\n",
      "  Downloading colour-0.1.5-py2.py3-none-any.whl (23 kB)\n",
      "Requirement already satisfied: pytest in /opt/conda/lib/python3.7/site-packages (from dtreeviz==1.0->mljar-supervised) (6.2.2)\n",
      "Requirement already satisfied: colorlog in /opt/conda/lib/python3.7/site-packages (from optuna==2.6.0->mljar-supervised) (4.7.2)\n",
      "Requirement already satisfied: tqdm in /opt/conda/lib/python3.7/site-packages (from optuna==2.6.0->mljar-supervised) (4.55.1)\n",
      "Requirement already satisfied: alembic in /opt/conda/lib/python3.7/site-packages (from optuna==2.6.0->mljar-supervised) (1.5.4)\n",
      "Collecting cmaes>=0.8.2\n",
      "  Downloading cmaes-0.8.2-py3-none-any.whl (15 kB)\n",
      "Requirement already satisfied: cliff in /opt/conda/lib/python3.7/site-packages (from optuna==2.6.0->mljar-supervised) (3.7.0)\n",
      "Requirement already satisfied: packaging>=20.0 in /opt/conda/lib/python3.7/site-packages (from optuna==2.6.0->mljar-supervised) (20.8)\n",
      "Requirement already satisfied: sqlalchemy>=1.1.0 in /opt/conda/lib/python3.7/site-packages (from optuna==2.6.0->mljar-supervised) (1.3.22)\n",
      "Requirement already satisfied: python-dateutil>=2.7.3 in /opt/conda/lib/python3.7/site-packages (from pandas==1.2.0->mljar-supervised) (2.8.1)\n",
      "Requirement already satisfied: pytz>=2017.3 in /opt/conda/lib/python3.7/site-packages (from pandas==1.2.0->mljar-supervised) (2020.5)\n",
      "Requirement already satisfied: threadpoolctl>=2.0.0 in /opt/conda/lib/python3.7/site-packages (from scikit-learn==0.24.1->mljar-supervised) (2.1.0)\n",
      "Requirement already satisfied: slicer in /opt/conda/lib/python3.7/site-packages (from shap==0.36.0->mljar-supervised) (0.0.7)\n",
      "Requirement already satisfied: numba in /opt/conda/lib/python3.7/site-packages (from shap==0.36.0->mljar-supervised) (0.52.0)\n",
      "Requirement already satisfied: pillow in /opt/conda/lib/python3.7/site-packages (from wordcloud==1.8.1->mljar-supervised) (7.2.0)\n",
      "Requirement already satisfied: cycler>=0.10 in /opt/conda/lib/python3.7/site-packages (from matplotlib>=3.2.2->mljar-supervised) (0.10.0)\n",
      "Requirement already satisfied: pyparsing!=2.0.4,!=2.1.2,!=2.1.6,>=2.0.3 in /opt/conda/lib/python3.7/site-packages (from matplotlib>=3.2.2->mljar-supervised) (2.4.7)\n",
      "Requirement already satisfied: kiwisolver>=1.0.1 in /opt/conda/lib/python3.7/site-packages (from matplotlib>=3.2.2->mljar-supervised) (1.3.1)\n",
      "Requirement already satisfied: python-editor>=0.3 in /opt/conda/lib/python3.7/site-packages (from alembic->optuna==2.6.0->mljar-supervised) (1.0.4)\n",
      "Requirement already satisfied: Mako in /opt/conda/lib/python3.7/site-packages (from alembic->optuna==2.6.0->mljar-supervised) (1.1.4)\n",
      "Requirement already satisfied: cmd2>=1.0.0 in /opt/conda/lib/python3.7/site-packages (from cliff->optuna==2.6.0->mljar-supervised) (1.5.0)\n",
      "Requirement already satisfied: pbr!=2.1.0,>=2.0.0 in /opt/conda/lib/python3.7/site-packages (from cliff->optuna==2.6.0->mljar-supervised) (5.5.1)\n",
      "Requirement already satisfied: PyYAML>=3.12 in /opt/conda/lib/python3.7/site-packages (from cliff->optuna==2.6.0->mljar-supervised) (5.3.1)\n",
      "Requirement already satisfied: stevedore>=2.0.1 in /opt/conda/lib/python3.7/site-packages (from cliff->optuna==2.6.0->mljar-supervised) (3.3.0)\n",
      "Requirement already satisfied: PrettyTable>=0.7.2 in /opt/conda/lib/python3.7/site-packages (from cliff->optuna==2.6.0->mljar-supervised) (2.0.0)\n",
      "Requirement already satisfied: importlib-metadata>=1.6.0 in /opt/conda/lib/python3.7/site-packages (from cmd2>=1.0.0->cliff->optuna==2.6.0->mljar-supervised) (3.3.0)\n",
      "Requirement already satisfied: wcwidth>=0.1.7 in /opt/conda/lib/python3.7/site-packages (from cmd2>=1.0.0->cliff->optuna==2.6.0->mljar-supervised) (0.2.5)\n",
      "Requirement already satisfied: attrs>=16.3.0 in /opt/conda/lib/python3.7/site-packages (from cmd2>=1.0.0->cliff->optuna==2.6.0->mljar-supervised) (20.3.0)\n",
      "Requirement already satisfied: colorama>=0.3.7 in /opt/conda/lib/python3.7/site-packages (from cmd2>=1.0.0->cliff->optuna==2.6.0->mljar-supervised) (0.4.4)\n",
      "Requirement already satisfied: pyperclip>=1.6 in /opt/conda/lib/python3.7/site-packages (from cmd2>=1.0.0->cliff->optuna==2.6.0->mljar-supervised) (1.8.1)\n",
      "Requirement already satisfied: typing-extensions>=3.6.4 in /opt/conda/lib/python3.7/site-packages (from importlib-metadata>=1.6.0->cmd2>=1.0.0->cliff->optuna==2.6.0->mljar-supervised) (3.7.4.3)\n",
      "Requirement already satisfied: zipp>=0.5 in /opt/conda/lib/python3.7/site-packages (from importlib-metadata>=1.6.0->cmd2>=1.0.0->cliff->optuna==2.6.0->mljar-supervised) (3.4.0)\n",
      "Requirement already satisfied: setuptools in /opt/conda/lib/python3.7/site-packages (from PrettyTable>=0.7.2->cliff->optuna==2.6.0->mljar-supervised) (49.6.0.post20201009)\n",
      "Requirement already satisfied: MarkupSafe>=0.9.2 in /opt/conda/lib/python3.7/site-packages (from Mako->alembic->optuna==2.6.0->mljar-supervised) (1.1.1)\n",
      "Requirement already satisfied: llvmlite<0.36,>=0.35.0 in /opt/conda/lib/python3.7/site-packages (from numba->shap==0.36.0->mljar-supervised) (0.35.0)\n",
      "Requirement already satisfied: retrying>=1.3.3 in /opt/conda/lib/python3.7/site-packages (from plotly->catboost==0.24.4->mljar-supervised) (1.3.3)\n",
      "Requirement already satisfied: toml in /opt/conda/lib/python3.7/site-packages (from pytest->dtreeviz==1.0->mljar-supervised) (0.10.2)\n"
     ]
    },
    {
     "name": "stdout",
     "output_type": "stream",
     "text": [
      "Requirement already satisfied: iniconfig in /opt/conda/lib/python3.7/site-packages (from pytest->dtreeviz==1.0->mljar-supervised) (1.1.1)\n",
      "Requirement already satisfied: py>=1.8.2 in /opt/conda/lib/python3.7/site-packages (from pytest->dtreeviz==1.0->mljar-supervised) (1.10.0)\n",
      "Requirement already satisfied: pluggy<1.0.0a1,>=0.12 in /opt/conda/lib/python3.7/site-packages (from pytest->dtreeviz==1.0->mljar-supervised) (0.13.1)\n",
      "Building wheels for collected packages: mljar-supervised, dtreeviz, shap\n",
      "  Building wheel for mljar-supervised (setup.py) ... \u001b[?25ldone\n",
      "\u001b[?25h  Created wheel for mljar-supervised: filename=mljar_supervised-0.10.2-py3-none-any.whl size=132222 sha256=51aa8c5939ba87c396982e93ad5ec55c54d40eac1d3093371a01f1f048c2f843\n",
      "  Stored in directory: /root/.cache/pip/wheels/aa/68/91/a942a4c112c82accf874941972d041b41d51a55860f2a843f7\n",
      "  Building wheel for dtreeviz (setup.py) ... \u001b[?25ldone\n",
      "\u001b[?25h  Created wheel for dtreeviz: filename=dtreeviz-1.0-py3-none-any.whl size=47219 sha256=0bb31dc4f698b2e6a41a6bb0e509e5083b8f8e743cf9933dd7a2de8c4853c97b\n",
      "  Stored in directory: /root/.cache/pip/wheels/0a/27/39/56e6216f118120c9a3d1c7a5f4ce96f06a98ccd20f691166fe\n",
      "  Building wheel for shap (setup.py) ... \u001b[?25ldone\n",
      "\u001b[?25h  Created wheel for shap: filename=shap-0.36.0-cp37-cp37m-linux_x86_64.whl size=461192 sha256=338c22104af617ecf06d873c6163a165fea752fd73196ea3d2b6336220902cc1\n",
      "  Stored in directory: /root/.cache/pip/wheels/6b/1e/4a/b1d65778aac48b677ac2a758251f9cccb338775e8d174f3696\n",
      "Successfully built mljar-supervised dtreeviz shap\n",
      "Installing collected packages: scipy, joblib, graphviz, colour, cmaes, tabulate, shap, seaborn, optuna, lightgbm, dtreeviz, cloudpickle, mljar-supervised\n",
      "  Attempting uninstall: scipy\n",
      "    Found existing installation: scipy 1.5.4\n",
      "    Uninstalling scipy-1.5.4:\n",
      "      Successfully uninstalled scipy-1.5.4\n",
      "  Attempting uninstall: joblib\n",
      "    Found existing installation: joblib 1.0.0\n",
      "    Uninstalling joblib-1.0.0:\n",
      "      Successfully uninstalled joblib-1.0.0\n",
      "  Attempting uninstall: graphviz\n",
      "    Found existing installation: graphviz 0.8.4\n",
      "    Uninstalling graphviz-0.8.4:\n",
      "      Successfully uninstalled graphviz-0.8.4\n",
      "  Attempting uninstall: cmaes\n",
      "    Found existing installation: cmaes 0.8.1\n",
      "    Uninstalling cmaes-0.8.1:\n",
      "      Successfully uninstalled cmaes-0.8.1\n",
      "  Attempting uninstall: tabulate\n",
      "    Found existing installation: tabulate 0.8.8\n",
      "    Uninstalling tabulate-0.8.8:\n",
      "      Successfully uninstalled tabulate-0.8.8\n",
      "  Attempting uninstall: shap\n",
      "    Found existing installation: shap 0.38.1\n",
      "    Uninstalling shap-0.38.1:\n",
      "      Successfully uninstalled shap-0.38.1\n",
      "  Attempting uninstall: seaborn\n",
      "    Found existing installation: seaborn 0.11.1\n",
      "    Uninstalling seaborn-0.11.1:\n",
      "      Successfully uninstalled seaborn-0.11.1\n",
      "  Attempting uninstall: optuna\n",
      "    Found existing installation: optuna 2.5.0\n",
      "    Uninstalling optuna-2.5.0:\n",
      "      Successfully uninstalled optuna-2.5.0\n",
      "  Attempting uninstall: lightgbm\n",
      "    Found existing installation: lightgbm 3.1.1\n",
      "    Uninstalling lightgbm-3.1.1:\n",
      "      Successfully uninstalled lightgbm-3.1.1\n",
      "  Attempting uninstall: cloudpickle\n",
      "    Found existing installation: cloudpickle 1.6.0\n",
      "    Uninstalling cloudpickle-1.6.0:\n",
      "      Successfully uninstalled cloudpickle-1.6.0\n",
      "\u001b[31mERROR: pip's dependency resolver does not currently take into account all the packages that are installed. This behaviour is the source of the following dependency conflicts.\n",
      "mxnet 1.7.0.post2 requires graphviz<0.9.0,>=0.8.1, but you have graphviz 0.16 which is incompatible.\n",
      "distributed 2021.2.0 requires cloudpickle>=1.5.0, but you have cloudpickle 1.3.0 which is incompatible.\n",
      "autogluon-core 0.1.0b20210219 requires graphviz<0.9.0,>=0.8.1, but you have graphviz 0.16 which is incompatible.\n",
      "autogluon-core 0.1.0b20210219 requires scipy==1.5.4, but you have scipy 1.6.1 which is incompatible.\u001b[0m\n",
      "Successfully installed cloudpickle-1.3.0 cmaes-0.8.2 colour-0.1.5 dtreeviz-1.0 graphviz-0.16 joblib-1.0.1 lightgbm-3.0.0 mljar-supervised-0.10.2 optuna-2.6.0 scipy-1.6.1 seaborn-0.10.1 shap-0.36.0 tabulate-0.8.7\n",
      "Note: you may need to restart the kernel to use updated packages.\n"
     ]
    }
   ],
   "source": [
    "pip install mljar-supervised"
   ]
  },
  {
   "cell_type": "code",
   "execution_count": 7,
   "metadata": {},
   "outputs": [
    {
     "data": {
      "text/html": [
       "<style type='text/css'>\n",
       ".datatable table.frame { margin-bottom: 0; }\n",
       ".datatable table.frame thead { border-bottom: none; }\n",
       ".datatable table.frame tr.coltypes td {  color: #FFFFFF;  line-height: 6px;  padding: 0 0.5em;}\n",
       ".datatable .bool    { background: #DDDD99; }\n",
       ".datatable .object  { background: #565656; }\n",
       ".datatable .int     { background: #5D9E5D; }\n",
       ".datatable .float   { background: #4040CC; }\n",
       ".datatable .str     { background: #CC4040; }\n",
       ".datatable .row_index {  background: var(--jp-border-color3);  border-right: 1px solid var(--jp-border-color0);  color: var(--jp-ui-font-color3);  font-size: 9px;}\n",
       ".datatable .frame tr.coltypes .row_index {  background: var(--jp-border-color0);}\n",
       ".datatable th:nth-child(2) { padding-left: 12px; }\n",
       ".datatable .hellipsis {  color: var(--jp-cell-editor-border-color);}\n",
       ".datatable .vellipsis {  background: var(--jp-layout-color0);  color: var(--jp-cell-editor-border-color);}\n",
       ".datatable .na {  color: var(--jp-cell-editor-border-color);  font-size: 80%;}\n",
       ".datatable .footer { font-size: 9px; }\n",
       ".datatable .frame_dimensions {  background: var(--jp-border-color3);  border-top: 1px solid var(--jp-border-color0);  color: var(--jp-ui-font-color3);  display: inline-block;  opacity: 0.6;  padding: 1px 10px 1px 5px;}\n",
       "</style>\n"
      ],
      "text/plain": [
       "<IPython.core.display.HTML object>"
      ]
     },
     "metadata": {},
     "output_type": "display_data"
    }
   ],
   "source": [
    "from supervised.automl import AutoML"
   ]
  },
  {
   "cell_type": "code",
   "execution_count": 8,
   "metadata": {},
   "outputs": [],
   "source": [
    "X = df.drop(columns=[\"e_signed\"], axis = 1)\n",
    "y = df[\"e_signed\"]"
   ]
  },
  {
   "cell_type": "code",
   "execution_count": 9,
   "metadata": {},
   "outputs": [],
   "source": [
    "from sklearn.model_selection import train_test_split\n",
    "\n",
    "X_train, X_test, y_train, y_test = train_test_split(X, y, test_size=0.3, random_state=42)"
   ]
  },
  {
   "cell_type": "code",
   "execution_count": 10,
   "metadata": {
    "scrolled": false
   },
   "outputs": [
    {
     "name": "stdout",
     "output_type": "stream",
     "text": [
      "Linear algorithm was disabled.\n",
      "AutoML directory: AutoML_1\n",
      "The task is binary_classification with evaluation metric logloss\n",
      "AutoML will use algorithms: ['Random Forest', 'LightGBM', 'Xgboost', 'CatBoost', 'Neural Network']\n",
      "AutoML will ensemble availabe models\n",
      "AutoML steps: ['simple_algorithms', 'default_algorithms', 'not_so_random', 'golden_features', 'insert_random_feature', 'features_selection', 'hill_climbing_1', 'hill_climbing_2', 'ensemble']\n",
      "Skip simple_algorithms because no parameters were generated.\n",
      "* Step default_algorithms will try to check up to 5 models\n",
      "1_Default_LightGBM logloss 0.618121 trained in 31.09 seconds (1-sample predict time 0.0517 seconds)\n",
      "2_Default_Xgboost logloss 0.618575 trained in 27.72 seconds (1-sample predict time 0.1778 seconds)\n",
      "3_Default_CatBoost logloss 0.62141 trained in 33.11 seconds (1-sample predict time 0.0566 seconds)\n",
      "4_Default_NeuralNetwork logloss 0.662774 trained in 12.81 seconds (1-sample predict time 0.1225 seconds)\n",
      "5_Default_RandomForest logloss 0.648345 trained in 36.72 seconds (1-sample predict time 0.5817 seconds)\n",
      "* Step not_so_random will try to check up to 20 models\n",
      "10_LightGBM logloss 0.620453 trained in 16.06 seconds (1-sample predict time 0.055 seconds)\n",
      "6_Xgboost logloss 0.618934 trained in 31.6 seconds (1-sample predict time 0.0599 seconds)\n",
      "14_CatBoost logloss 0.623186 trained in 67.54 seconds (1-sample predict time 0.0573 seconds)\n",
      "18_RandomForest logloss 0.648918 trained in 34.88 seconds (1-sample predict time 0.5858 seconds)\n",
      "22_NeuralNetwork logloss 0.664154 trained in 11.87 seconds (1-sample predict time 0.1265 seconds)\n",
      "11_LightGBM logloss 0.632279 trained in 17.91 seconds (1-sample predict time 0.0553 seconds)\n",
      "7_Xgboost logloss 0.621664 trained in 28.16 seconds (1-sample predict time 0.0602 seconds)\n",
      "15_CatBoost logloss 0.62406 trained in 39.49 seconds (1-sample predict time 0.0574 seconds)\n",
      "19_RandomForest logloss 0.632642 trained in 47.12 seconds (1-sample predict time 0.5811 seconds)\n",
      "23_NeuralNetwork logloss 0.656351 trained in 14.61 seconds (1-sample predict time 0.1203 seconds)\n",
      "12_LightGBM logloss 0.628853 trained in 17.26 seconds (1-sample predict time 0.0571 seconds)\n",
      "8_Xgboost logloss 0.628319 trained in 25.26 seconds (1-sample predict time 0.0675 seconds)\n",
      "16_CatBoost logloss 0.621065 trained in 39.6 seconds (1-sample predict time 0.06 seconds)\n",
      "20_RandomForest logloss 0.656024 trained in 34.85 seconds (1-sample predict time 0.5791 seconds)\n",
      "24_NeuralNetwork logloss 0.675061 trained in 14.85 seconds (1-sample predict time 0.1188 seconds)\n",
      "13_LightGBM logloss 0.624957 trained in 14.18 seconds (1-sample predict time 0.0569 seconds)\n",
      "9_Xgboost logloss 0.638674 trained in 39.98 seconds (1-sample predict time 0.0638 seconds)\n",
      "17_CatBoost logloss 0.626442 trained in 24.35 seconds (1-sample predict time 0.0627 seconds)\n",
      "21_RandomForest logloss 0.638397 trained in 37.29 seconds (1-sample predict time 0.5839 seconds)\n",
      "25_NeuralNetwork logloss 0.666307 trained in 14.78 seconds (1-sample predict time 0.129 seconds)\n",
      "* Step golden_features will try to check up to 3 models\n",
      "Add Golden Feature: months_employed_diff_amount_requested\n",
      "Add Golden Feature: amount_requested_sum_personal_account_y\n",
      "Add Golden Feature: home_owner_diff_amount_requested\n",
      "Add Golden Feature: personal_account_m_diff_amount_requested\n",
      "Add Golden Feature: amount_requested_sum_current_address_year\n",
      "Add Golden Feature: personal_account_y_diff_amount_requested\n",
      "Add Golden Feature: amount_requested_sum_personal_account_m\n",
      "Add Golden Feature: amount_requested_sum_home_owner\n",
      "Add Golden Feature: years_employed_diff_amount_requested\n",
      "Add Golden Feature: has_debt_diff_amount_requested\n",
      "Created 10 Golden Features in 1.99 seconds.\n",
      "1_Default_LightGBM_GoldenFeatures logloss 0.616701 trained in 37.26 seconds (1-sample predict time 0.0986 seconds)\n",
      "2_Default_Xgboost_GoldenFeatures logloss 0.61621 trained in 39.82 seconds (1-sample predict time 0.1209 seconds)\n",
      "6_Xgboost_GoldenFeatures logloss 0.618236 trained in 50.15 seconds (1-sample predict time 0.2817 seconds)\n",
      "* Step insert_random_feature will try to check up to 1 model\n",
      "2_Default_Xgboost_GoldenFeatures_RandomFeature logloss 0.61723 trained in 41.87 seconds (1-sample predict time 0.1186 seconds)\n",
      "Drop features ['inquiries_last_month', 'current_address_year', 'ext_quality_score_2', 'years_employed', 'random_feature']\n",
      "* Step features_selection will try to check up to 5 models\n",
      "2_Default_Xgboost_GoldenFeatures_SelectedFeatures logloss 0.61606 trained in 35.93 seconds (1-sample predict time 0.111 seconds)\n",
      "1_Default_LightGBM_GoldenFeatures_SelectedFeatures logloss 0.615263 trained in 30.63 seconds (1-sample predict time 0.112 seconds)\n",
      "16_CatBoost_SelectedFeatures logloss 0.622633 trained in 31.45 seconds (1-sample predict time 0.056 seconds)\n",
      "19_RandomForest_SelectedFeatures logloss 0.632301 trained in 36.67 seconds (1-sample predict time 0.5796 seconds)\n",
      "23_NeuralNetwork_SelectedFeatures logloss 0.653819 trained in 15.13 seconds (1-sample predict time 0.1241 seconds)\n",
      "* Step hill_climbing_1 will try to check up to 14 models\n",
      "26_LightGBM_GoldenFeatures_SelectedFeatures logloss 0.615114 trained in 32.94 seconds (1-sample predict time 0.1011 seconds)\n",
      "27_LightGBM_GoldenFeatures_SelectedFeatures logloss 0.615765 trained in 31.46 seconds (1-sample predict time 0.1012 seconds)\n",
      "28_Xgboost_GoldenFeatures_SelectedFeatures logloss 0.616883 trained in 35.2 seconds (1-sample predict time 0.1085 seconds)\n",
      "29_Xgboost_GoldenFeatures logloss 0.617589 trained in 39.62 seconds (1-sample predict time 0.1067 seconds)\n",
      "30_LightGBM_GoldenFeatures logloss 0.614823 trained in 34.83 seconds (1-sample predict time 0.1016 seconds)\n",
      "31_LightGBM_GoldenFeatures logloss 0.616719 trained in 33.86 seconds (1-sample predict time 0.1061 seconds)\n",
      "32_CatBoost logloss 0.619135 trained in 60.96 seconds (1-sample predict time 0.0604 seconds)\n",
      "33_CatBoost logloss 0.6253 trained in 22.66 seconds (1-sample predict time 0.0577 seconds)\n",
      "34_CatBoost logloss 0.618614 trained in 52.21 seconds (1-sample predict time 0.0578 seconds)\n",
      "35_CatBoost logloss 0.624181 trained in 21.6 seconds (1-sample predict time 0.0572 seconds)\n",
      "36_RandomForest_SelectedFeatures logloss 0.633129 trained in 50.22 seconds (1-sample predict time 0.5807 seconds)\n",
      "37_RandomForest logloss 0.633412 trained in 42.06 seconds (1-sample predict time 0.583 seconds)\n",
      "38_NeuralNetwork_SelectedFeatures logloss 0.655849 trained in 12.02 seconds (1-sample predict time 0.1214 seconds)\n",
      "39_NeuralNetwork logloss 0.667904 trained in 13.05 seconds (1-sample predict time 0.1239 seconds)\n",
      "* Step hill_climbing_2 will try to check up to 20 models\n",
      "40_LightGBM_GoldenFeatures logloss 0.616449 trained in 28.21 seconds (1-sample predict time 0.1014 seconds)\n",
      "41_LightGBM_GoldenFeatures logloss 0.616005 trained in 38.2 seconds (1-sample predict time 0.1052 seconds)\n",
      "42_LightGBM_GoldenFeatures_SelectedFeatures logloss 0.614047 trained in 30.51 seconds (1-sample predict time 0.1061 seconds)\n",
      "43_LightGBM_GoldenFeatures_SelectedFeatures logloss 0.615859 trained in 36.22 seconds (1-sample predict time 0.0999 seconds)\n",
      "44_Xgboost_GoldenFeatures_SelectedFeatures logloss 0.616638 trained in 40.02 seconds (1-sample predict time 0.1082 seconds)\n",
      "45_Xgboost_GoldenFeatures_SelectedFeatures logloss 0.617235 trained in 32.71 seconds (1-sample predict time 0.1103 seconds)\n",
      "46_Xgboost_GoldenFeatures logloss 0.616383 trained in 46.0 seconds (1-sample predict time 0.1117 seconds)\n",
      "47_Xgboost_GoldenFeatures logloss 0.618398 trained in 38.03 seconds (1-sample predict time 0.1225 seconds)\n",
      "48_CatBoost logloss 0.618834 trained in 55.64 seconds (1-sample predict time 0.0576 seconds)\n",
      "49_CatBoost logloss 0.619369 trained in 56.39 seconds (1-sample predict time 0.105 seconds)\n",
      "50_CatBoost logloss 0.618363 trained in 50.96 seconds (1-sample predict time 0.0604 seconds)\n",
      "51_CatBoost logloss 0.622236 trained in 61.6 seconds (1-sample predict time 0.058 seconds)\n",
      "52_RandomForest_SelectedFeatures logloss 0.63324 trained in 33.75 seconds (1-sample predict time 0.5779 seconds)\n",
      "53_RandomForest_SelectedFeatures logloss 0.632116 trained in 50.88 seconds (1-sample predict time 0.5862 seconds)\n",
      "54_RandomForest logloss 0.633 trained in 43.36 seconds (1-sample predict time 0.5805 seconds)\n"
     ]
    },
    {
     "name": "stdout",
     "output_type": "stream",
     "text": [
      "55_RandomForest logloss 0.632673 trained in 57.32 seconds (1-sample predict time 0.5809 seconds)\n",
      "56_NeuralNetwork_SelectedFeatures logloss 0.656584 trained in 13.32 seconds (1-sample predict time 0.1223 seconds)\n",
      "57_NeuralNetwork_SelectedFeatures logloss 0.6546 trained in 15.93 seconds (1-sample predict time 0.1476 seconds)\n",
      "58_NeuralNetwork_SelectedFeatures logloss 0.655657 trained in 12.28 seconds (1-sample predict time 0.1424 seconds)\n",
      "59_NeuralNetwork_SelectedFeatures logloss 0.655302 trained in 13.8 seconds (1-sample predict time 0.1205 seconds)\n",
      "* Step ensemble will try to check up to 1 model\n",
      "Ensemble logloss 0.611418 trained in 6.35 seconds (1-sample predict time 0.448 seconds)\n",
      "AutoML fit time: 2331.2 seconds\n",
      "AutoML best model: Ensemble\n"
     ]
    },
    {
     "data": {
      "text/plain": [
       "AutoML(mode='Perform')"
      ]
     },
     "execution_count": 10,
     "metadata": {},
     "output_type": "execute_result"
    }
   ],
   "source": [
    "auto = AutoML(mode=\"Perform\")\n",
    "auto.fit(X_train,y_train)"
   ]
  },
  {
   "cell_type": "code",
   "execution_count": 14,
   "metadata": {},
   "outputs": [],
   "source": [
    "y_predictions = auto.predict(X_test)"
   ]
  },
  {
   "cell_type": "code",
   "execution_count": 12,
   "metadata": {},
   "outputs": [],
   "source": [
    "from sklearn.metrics import accuracy_score"
   ]
  },
  {
   "cell_type": "code",
   "execution_count": 15,
   "metadata": {},
   "outputs": [
    {
     "data": {
      "text/plain": [
       "0.644891122278057"
      ]
     },
     "execution_count": 15,
     "metadata": {},
     "output_type": "execute_result"
    }
   ],
   "source": [
    "accuracy_score(y_test, y_predictions)"
   ]
  },
  {
   "cell_type": "code",
   "execution_count": 17,
   "metadata": {
    "scrolled": false
   },
   "outputs": [
    {
     "name": "stdout",
     "output_type": "stream",
     "text": [
      "AutoML directory: AutoML_2\n",
      "The task is binary_classification with evaluation metric logloss\n",
      "AutoML will use algorithms: ['Random Forest', 'Extra Trees', 'LightGBM', 'Xgboost', 'CatBoost']\n",
      "AutoML will ensemble availabe models\n",
      "AutoML steps: ['simple_algorithms', 'default_algorithms', 'not_so_random', 'golden_features', 'insert_random_feature', 'features_selection', 'hill_climbing_1', 'hill_climbing_2', 'boost_on_errors', 'ensemble']\n",
      "Skip simple_algorithms because no parameters were generated.\n",
      "* Step default_algorithms will try to check up to 5 models\n",
      "1_Default_LightGBM logloss 0.618121 trained in 37.66 seconds (1-sample predict time 0.0583 seconds)\n",
      "2_Default_Xgboost logloss 0.618575 trained in 29.73 seconds (1-sample predict time 0.0614 seconds)\n",
      "3_Default_CatBoost logloss 0.62141 trained in 34.04 seconds (1-sample predict time 0.0579 seconds)\n",
      "4_Default_RandomForest logloss 0.647775 trained in 32.27 seconds (1-sample predict time 0.5842 seconds)\n",
      "5_Default_ExtraTrees logloss 0.663994 trained in 30.33 seconds (1-sample predict time 0.5848 seconds)\n",
      "* Step not_so_random will try to check up to 20 models\n",
      "10_LightGBM logloss 0.620453 trained in 16.64 seconds (1-sample predict time 0.062 seconds)\n",
      "6_Xgboost logloss 0.618934 trained in 32.13 seconds (1-sample predict time 0.0657 seconds)\n",
      "14_CatBoost logloss 0.623186 trained in 68.83 seconds (1-sample predict time 0.0624 seconds)\n",
      "18_RandomForest logloss 0.648918 trained in 35.23 seconds (1-sample predict time 0.5837 seconds)\n",
      "22_ExtraTrees logloss 0.669491 trained in 28.21 seconds (1-sample predict time 0.5844 seconds)\n",
      "11_LightGBM logloss 0.632279 trained in 18.0 seconds (1-sample predict time 0.0605 seconds)\n",
      "7_Xgboost logloss 0.621664 trained in 29.31 seconds (1-sample predict time 0.0608 seconds)\n",
      "15_CatBoost logloss 0.62406 trained in 40.33 seconds (1-sample predict time 0.0617 seconds)\n",
      "19_RandomForest logloss 0.632642 trained in 51.73 seconds (1-sample predict time 0.5832 seconds)\n",
      "23_ExtraTrees logloss 0.649878 trained in 30.42 seconds (1-sample predict time 0.578 seconds)\n",
      "12_LightGBM logloss 0.628853 trained in 17.74 seconds (1-sample predict time 0.059 seconds)\n",
      "8_Xgboost logloss 0.628319 trained in 25.73 seconds (1-sample predict time 0.0602 seconds)\n",
      "16_CatBoost logloss 0.621065 trained in 37.11 seconds (1-sample predict time 0.0624 seconds)\n",
      "20_RandomForest logloss 0.656024 trained in 34.94 seconds (1-sample predict time 0.59 seconds)\n",
      "24_ExtraTrees logloss 0.673004 trained in 34.97 seconds (1-sample predict time 0.5872 seconds)\n",
      "13_LightGBM logloss 0.624957 trained in 13.97 seconds (1-sample predict time 0.0551 seconds)\n",
      "9_Xgboost logloss 0.638674 trained in 41.09 seconds (1-sample predict time 0.0705 seconds)\n",
      "17_CatBoost logloss 0.626442 trained in 24.59 seconds (1-sample predict time 0.0567 seconds)\n",
      "21_RandomForest logloss 0.638397 trained in 38.08 seconds (1-sample predict time 0.583 seconds)\n",
      "25_ExtraTrees logloss 0.657865 trained in 29.8 seconds (1-sample predict time 0.5792 seconds)\n",
      "* Step golden_features will try to check up to 3 models\n",
      "Add Golden Feature: months_employed_diff_amount_requested\n",
      "Add Golden Feature: amount_requested_sum_personal_account_y\n",
      "Add Golden Feature: home_owner_diff_amount_requested\n",
      "Add Golden Feature: personal_account_m_diff_amount_requested\n",
      "Add Golden Feature: amount_requested_sum_current_address_year\n",
      "Add Golden Feature: personal_account_y_diff_amount_requested\n",
      "Add Golden Feature: amount_requested_sum_personal_account_m\n",
      "Add Golden Feature: amount_requested_sum_home_owner\n",
      "Add Golden Feature: years_employed_diff_amount_requested\n",
      "Add Golden Feature: has_debt_diff_amount_requested\n",
      "Created 10 Golden Features in 2.06 seconds.\n",
      "1_Default_LightGBM_GoldenFeatures logloss 0.616701 trained in 38.24 seconds (1-sample predict time 0.0979 seconds)\n",
      "2_Default_Xgboost_GoldenFeatures logloss 0.61621 trained in 40.23 seconds (1-sample predict time 0.408 seconds)\n",
      "6_Xgboost_GoldenFeatures logloss 0.618236 trained in 49.37 seconds (1-sample predict time 0.1096 seconds)\n",
      "* Step insert_random_feature will try to check up to 1 model\n",
      "2_Default_Xgboost_GoldenFeatures_RandomFeature logloss 0.61723 trained in 42.55 seconds (1-sample predict time 0.1147 seconds)\n",
      "Drop features ['inquiries_last_month', 'current_address_year', 'ext_quality_score_2', 'years_employed', 'random_feature']\n",
      "* Step features_selection will try to check up to 5 models\n",
      "2_Default_Xgboost_GoldenFeatures_SelectedFeatures logloss 0.61606 trained in 35.73 seconds (1-sample predict time 0.1149 seconds)\n",
      "1_Default_LightGBM_GoldenFeatures_SelectedFeatures logloss 0.615263 trained in 32.12 seconds (1-sample predict time 0.1072 seconds)\n",
      "16_CatBoost_SelectedFeatures logloss 0.622633 trained in 31.67 seconds (1-sample predict time 0.0566 seconds)\n",
      "19_RandomForest_SelectedFeatures logloss 0.632301 trained in 37.28 seconds (1-sample predict time 0.5801 seconds)\n",
      "23_ExtraTrees_SelectedFeatures logloss 0.650357 trained in 27.88 seconds (1-sample predict time 0.585 seconds)\n",
      "* Step hill_climbing_1 will try to check up to 22 models\n",
      "26_LightGBM_GoldenFeatures_SelectedFeatures logloss 0.615114 trained in 32.07 seconds (1-sample predict time 0.0983 seconds)\n",
      "27_LightGBM_GoldenFeatures_SelectedFeatures logloss 0.615765 trained in 31.1 seconds (1-sample predict time 0.1032 seconds)\n",
      "28_Xgboost_GoldenFeatures_SelectedFeatures logloss 0.616883 trained in 34.26 seconds (1-sample predict time 0.1131 seconds)\n",
      "29_Xgboost_GoldenFeatures logloss 0.617589 trained in 39.56 seconds (1-sample predict time 0.1118 seconds)\n",
      "30_LightGBM_GoldenFeatures logloss 0.614823 trained in 34.2 seconds (1-sample predict time 0.1017 seconds)\n",
      "31_LightGBM_GoldenFeatures logloss 0.616719 trained in 34.74 seconds (1-sample predict time 0.1019 seconds)\n",
      "32_LightGBM logloss 0.619296 trained in 29.78 seconds (1-sample predict time 0.0559 seconds)\n",
      "33_LightGBM logloss 0.62008 trained in 27.52 seconds (1-sample predict time 0.0593 seconds)\n",
      "34_Xgboost_GoldenFeatures logloss 0.618336 trained in 48.58 seconds (1-sample predict time 0.1116 seconds)\n",
      "35_Xgboost_GoldenFeatures logloss 0.618716 trained in 44.54 seconds (1-sample predict time 0.1151 seconds)\n",
      "36_CatBoost logloss 0.619135 trained in 61.31 seconds (1-sample predict time 0.057 seconds)\n",
      "37_CatBoost logloss 0.6253 trained in 22.44 seconds (1-sample predict time 0.0569 seconds)\n",
      "38_CatBoost logloss 0.618614 trained in 52.5 seconds (1-sample predict time 0.0589 seconds)\n",
      "39_CatBoost logloss 0.624181 trained in 21.61 seconds (1-sample predict time 0.0605 seconds)\n",
      "40_CatBoost_SelectedFeatures logloss 0.61944 trained in 57.18 seconds (1-sample predict time 0.0542 seconds)\n",
      "41_CatBoost_SelectedFeatures logloss 0.623791 trained in 22.8 seconds (1-sample predict time 0.0549 seconds)\n",
      "42_RandomForest_SelectedFeatures logloss 0.633129 trained in 50.15 seconds (1-sample predict time 0.5828 seconds)\n",
      "43_RandomForest logloss 0.633412 trained in 41.52 seconds (1-sample predict time 0.5834 seconds)\n",
      "44_RandomForest logloss 0.637822 trained in 45.26 seconds (1-sample predict time 0.5876 seconds)\n",
      "45_ExtraTrees logloss 0.649883 trained in 31.25 seconds (1-sample predict time 0.579 seconds)\n",
      "46_ExtraTrees_SelectedFeatures logloss 0.65108 trained in 28.64 seconds (1-sample predict time 0.5757 seconds)\n",
      "47_ExtraTrees logloss 0.657874 trained in 31.25 seconds (1-sample predict time 0.5802 seconds)\n",
      "* Step hill_climbing_2 will try to check up to 18 models\n",
      "48_LightGBM_GoldenFeatures logloss 0.617095 trained in 21.59 seconds (1-sample predict time 0.106 seconds)\n",
      "49_LightGBM_GoldenFeatures_SelectedFeatures logloss 0.617249 trained in 21.78 seconds (1-sample predict time 0.1029 seconds)\n",
      "50_LightGBM_GoldenFeatures_SelectedFeatures logloss 0.617155 trained in 20.76 seconds (1-sample predict time 0.1045 seconds)\n",
      "51_Xgboost_GoldenFeatures_SelectedFeatures logloss 0.616447 trained in 34.91 seconds (1-sample predict time 0.1072 seconds)\n",
      "52_Xgboost_GoldenFeatures_SelectedFeatures logloss 0.615314 trained in 39.08 seconds (1-sample predict time 0.1095 seconds)\n",
      "53_Xgboost_GoldenFeatures logloss 0.616317 trained in 38.73 seconds (1-sample predict time 0.1127 seconds)\n",
      "54_Xgboost_GoldenFeatures logloss 0.618585 trained in 42.56 seconds (1-sample predict time 0.1112 seconds)\n",
      "55_Xgboost_GoldenFeatures_SelectedFeatures logloss 0.617821 trained in 33.13 seconds (1-sample predict time 0.1098 seconds)\n"
     ]
    },
    {
     "name": "stdout",
     "output_type": "stream",
     "text": [
      "56_Xgboost_GoldenFeatures_SelectedFeatures logloss 0.617947 trained in 33.28 seconds (1-sample predict time 0.1179 seconds)\n",
      "57_CatBoost logloss 0.619092 trained in 53.62 seconds (1-sample predict time 0.0587 seconds)\n",
      "58_CatBoost logloss 0.620371 trained in 58.74 seconds (1-sample predict time 0.0573 seconds)\n",
      "59_CatBoost_SelectedFeatures logloss 0.61966 trained in 54.72 seconds (1-sample predict time 0.0553 seconds)\n",
      "60_RandomForest_SelectedFeatures logloss 0.637237 trained in 30.8 seconds (1-sample predict time 0.5842 seconds)\n",
      "61_RandomForest logloss 0.63629 trained in 36.37 seconds (1-sample predict time 0.5791 seconds)\n",
      "62_RandomForest_SelectedFeatures logloss 0.637131 trained in 36.12 seconds (1-sample predict time 0.5771 seconds)\n",
      "63_ExtraTrees logloss 0.655865 trained in 27.78 seconds (1-sample predict time 0.5837 seconds)\n",
      "64_ExtraTrees logloss 0.656132 trained in 28.95 seconds (1-sample predict time 0.5807 seconds)\n",
      "65_ExtraTrees_SelectedFeatures logloss 0.655452 trained in 25.32 seconds (1-sample predict time 0.5826 seconds)\n",
      "* Step boost_on_errors will try to check up to 1 model\n",
      "30_LightGBM_GoldenFeatures_BoostOnErrors logloss 0.621107 trained in 34.66 seconds (1-sample predict time 0.1031 seconds)\n",
      "* Step ensemble will try to check up to 1 model\n",
      "Ensemble logloss 0.611127 trained in 6.19 seconds (1-sample predict time 0.4472 seconds)\n",
      "AutoML fit time: 2723.48 seconds\n",
      "AutoML best model: Ensemble\n"
     ]
    },
    {
     "data": {
      "text/plain": [
       "AutoML(algorithms=['Random Forest', 'Extra Trees', 'LightGBM', 'Xgboost',\n",
       "                   'CatBoost'],\n",
       "       boost_on_errors=True, explain_level=1, mode='Perform',\n",
       "       top_models_to_improve=3)"
      ]
     },
     "execution_count": 17,
     "metadata": {},
     "output_type": "execute_result"
    }
   ],
   "source": [
    "automl = AutoML(mode = \"Perform\", \n",
    "               top_models_to_improve = 3, \n",
    "               boost_on_errors = True, \n",
    "               verbose = 1, \n",
    "               explain_level = 1,\n",
    "               algorithms = [\"Random Forest\",\"Extra Trees\",\"LightGBM\",\"Xgboost\",\"CatBoost\"])\n",
    "\n",
    "automl.fit(X_train,y_train)"
   ]
  },
  {
   "cell_type": "code",
   "execution_count": null,
   "metadata": {},
   "outputs": [],
   "source": [
    "y_predict = automl.predict(X_test)"
   ]
  },
  {
   "cell_type": "code",
   "execution_count": 21,
   "metadata": {},
   "outputs": [
    {
     "data": {
      "text/plain": [
       "0.6476828587381351"
      ]
     },
     "execution_count": 21,
     "metadata": {},
     "output_type": "execute_result"
    }
   ],
   "source": [
    "accuracy_score(y_test, y_predict)"
   ]
  },
  {
   "cell_type": "markdown",
   "metadata": {},
   "source": [
    "# <font color= darkblue><i> 2.  AutoViML(AutoML) Algorithm"
   ]
  },
  {
   "cell_type": "code",
   "execution_count": 22,
   "metadata": {
    "scrolled": false
   },
   "outputs": [
    {
     "name": "stdout",
     "output_type": "stream",
     "text": [
      "Collecting git+https://github.com/AutoViML/Auto_ViML.git\n",
      "  Cloning https://github.com/AutoViML/Auto_ViML.git to /tmp/pip-req-build-7wmfqixu\n",
      "  Running command git clone -q https://github.com/AutoViML/Auto_ViML.git /tmp/pip-req-build-7wmfqixu\n",
      "Requirement already satisfied: ipython in /opt/conda/lib/python3.7/site-packages (from autoviml==0.1.680) (7.19.0)\n",
      "Requirement already satisfied: jupyter in /opt/conda/lib/python3.7/site-packages (from autoviml==0.1.680) (1.0.0)\n",
      "Requirement already satisfied: xgboost>=1.1.1 in /opt/conda/lib/python3.7/site-packages (from autoviml==0.1.680) (1.3.3)\n",
      "Requirement already satisfied: pandas in /opt/conda/lib/python3.7/site-packages (from autoviml==0.1.680) (1.2.0)\n",
      "Requirement already satisfied: matplotlib in /opt/conda/lib/python3.7/site-packages (from autoviml==0.1.680) (3.3.3)\n",
      "Requirement already satisfied: seaborn in /opt/conda/lib/python3.7/site-packages (from autoviml==0.1.680) (0.10.1)\n",
      "Requirement already satisfied: scikit-learn>=0.23.1 in /opt/conda/lib/python3.7/site-packages (from autoviml==0.1.680) (0.24.1)\n",
      "Requirement already satisfied: catboost in /opt/conda/lib/python3.7/site-packages (from autoviml==0.1.680) (0.24.4)\n",
      "Requirement already satisfied: textblob in /opt/conda/lib/python3.7/site-packages (from autoviml==0.1.680) (0.15.3)\n",
      "Requirement already satisfied: nltk in /opt/conda/lib/python3.7/site-packages (from autoviml==0.1.680) (3.2.4)\n",
      "Requirement already satisfied: regex in /opt/conda/lib/python3.7/site-packages (from autoviml==0.1.680) (2020.11.13)\n",
      "Collecting vaderSentiment\n",
      "  Downloading vaderSentiment-3.3.2-py2.py3-none-any.whl (125 kB)\n",
      "\u001b[K     |████████████████████████████████| 125 kB 1.3 MB/s eta 0:00:01\n",
      "\u001b[?25hRequirement already satisfied: imbalanced-learn>=0.7 in /opt/conda/lib/python3.7/site-packages (from autoviml==0.1.680) (0.8.0)\n",
      "Collecting beautifulsoup4\n",
      "  Downloading beautifulsoup4-4.9.3-py3-none-any.whl (115 kB)\n",
      "\u001b[K     |████████████████████████████████| 115 kB 4.7 MB/s eta 0:00:01\n",
      "\u001b[?25hRequirement already satisfied: shap>=0.36.0 in /opt/conda/lib/python3.7/site-packages (from autoviml==0.1.680) (0.36.0)\n",
      "Requirement already satisfied: emoji in /opt/conda/lib/python3.7/site-packages (from autoviml==0.1.680) (1.2.0)\n",
      "Collecting xlrd\n",
      "  Downloading xlrd-2.0.1-py2.py3-none-any.whl (96 kB)\n",
      "\u001b[K     |████████████████████████████████| 96 kB 2.5 MB/s eta 0:00:011\n",
      "\u001b[?25hRequirement already satisfied: numpy>=1.13.3 in /opt/conda/lib/python3.7/site-packages (from imbalanced-learn>=0.7->autoviml==0.1.680) (1.19.5)\n",
      "Requirement already satisfied: joblib>=0.11 in /opt/conda/lib/python3.7/site-packages (from imbalanced-learn>=0.7->autoviml==0.1.680) (1.0.1)\n",
      "Requirement already satisfied: scipy>=0.19.1 in /opt/conda/lib/python3.7/site-packages (from imbalanced-learn>=0.7->autoviml==0.1.680) (1.6.1)\n",
      "Requirement already satisfied: threadpoolctl>=2.0.0 in /opt/conda/lib/python3.7/site-packages (from scikit-learn>=0.23.1->autoviml==0.1.680) (2.1.0)\n",
      "Requirement already satisfied: tqdm>4.25.0 in /opt/conda/lib/python3.7/site-packages (from shap>=0.36.0->autoviml==0.1.680) (4.55.1)\n",
      "Requirement already satisfied: slicer in /opt/conda/lib/python3.7/site-packages (from shap>=0.36.0->autoviml==0.1.680) (0.0.7)\n",
      "Requirement already satisfied: numba in /opt/conda/lib/python3.7/site-packages (from shap>=0.36.0->autoviml==0.1.680) (0.52.0)\n",
      "Collecting soupsieve>1.2\n",
      "  Downloading soupsieve-2.2.1-py3-none-any.whl (33 kB)\n",
      "Requirement already satisfied: six in /opt/conda/lib/python3.7/site-packages (from catboost->autoviml==0.1.680) (1.15.0)\n",
      "Requirement already satisfied: plotly in /opt/conda/lib/python3.7/site-packages (from catboost->autoviml==0.1.680) (4.14.3)\n",
      "Requirement already satisfied: graphviz in /opt/conda/lib/python3.7/site-packages (from catboost->autoviml==0.1.680) (0.16)\n",
      "Requirement already satisfied: python-dateutil>=2.7.3 in /opt/conda/lib/python3.7/site-packages (from pandas->autoviml==0.1.680) (2.8.1)\n",
      "Requirement already satisfied: pytz>=2017.3 in /opt/conda/lib/python3.7/site-packages (from pandas->autoviml==0.1.680) (2020.5)\n",
      "Requirement already satisfied: decorator in /opt/conda/lib/python3.7/site-packages (from ipython->autoviml==0.1.680) (4.4.2)\n",
      "Requirement already satisfied: pexpect>4.3 in /opt/conda/lib/python3.7/site-packages (from ipython->autoviml==0.1.680) (4.8.0)\n",
      "Requirement already satisfied: traitlets>=4.2 in /opt/conda/lib/python3.7/site-packages (from ipython->autoviml==0.1.680) (5.0.5)\n",
      "Requirement already satisfied: jedi>=0.10 in /opt/conda/lib/python3.7/site-packages (from ipython->autoviml==0.1.680) (0.17.2)\n",
      "Requirement already satisfied: pygments in /opt/conda/lib/python3.7/site-packages (from ipython->autoviml==0.1.680) (2.7.3)\n",
      "Requirement already satisfied: prompt-toolkit!=3.0.0,!=3.0.1,<3.1.0,>=2.0.0 in /opt/conda/lib/python3.7/site-packages (from ipython->autoviml==0.1.680) (3.0.8)\n",
      "Requirement already satisfied: backcall in /opt/conda/lib/python3.7/site-packages (from ipython->autoviml==0.1.680) (0.2.0)\n",
      "Requirement already satisfied: setuptools>=18.5 in /opt/conda/lib/python3.7/site-packages (from ipython->autoviml==0.1.680) (49.6.0.post20201009)\n",
      "Requirement already satisfied: pickleshare in /opt/conda/lib/python3.7/site-packages (from ipython->autoviml==0.1.680) (0.7.5)\n",
      "Requirement already satisfied: parso<0.8.0,>=0.7.0 in /opt/conda/lib/python3.7/site-packages (from jedi>=0.10->ipython->autoviml==0.1.680) (0.7.1)\n",
      "Requirement already satisfied: ptyprocess>=0.5 in /opt/conda/lib/python3.7/site-packages (from pexpect>4.3->ipython->autoviml==0.1.680) (0.7.0)\n",
      "Requirement already satisfied: wcwidth in /opt/conda/lib/python3.7/site-packages (from prompt-toolkit!=3.0.0,!=3.0.1,<3.1.0,>=2.0.0->ipython->autoviml==0.1.680) (0.2.5)\n",
      "Requirement already satisfied: ipython-genutils in /opt/conda/lib/python3.7/site-packages (from traitlets>=4.2->ipython->autoviml==0.1.680) (0.2.0)\n",
      "Requirement already satisfied: ipykernel in /opt/conda/lib/python3.7/site-packages (from jupyter->autoviml==0.1.680) (5.1.1)\n",
      "Requirement already satisfied: ipywidgets in /opt/conda/lib/python3.7/site-packages (from jupyter->autoviml==0.1.680) (7.6.2)\n",
      "Requirement already satisfied: notebook in /opt/conda/lib/python3.7/site-packages (from jupyter->autoviml==0.1.680) (5.5.0)\n",
      "Requirement already satisfied: qtconsole in /opt/conda/lib/python3.7/site-packages (from jupyter->autoviml==0.1.680) (5.0.2)\n",
      "Requirement already satisfied: jupyter-console in /opt/conda/lib/python3.7/site-packages (from jupyter->autoviml==0.1.680) (6.2.0)\n",
      "Requirement already satisfied: nbconvert in /opt/conda/lib/python3.7/site-packages (from jupyter->autoviml==0.1.680) (6.0.7)\n",
      "Requirement already satisfied: tornado>=4.2 in /opt/conda/lib/python3.7/site-packages (from ipykernel->jupyter->autoviml==0.1.680) (5.0.2)\n",
      "Requirement already satisfied: jupyter-client in /opt/conda/lib/python3.7/site-packages (from ipykernel->jupyter->autoviml==0.1.680) (6.1.7)\n",
      "Requirement already satisfied: widgetsnbextension~=3.5.0 in /opt/conda/lib/python3.7/site-packages (from ipywidgets->jupyter->autoviml==0.1.680) (3.5.1)\n",
      "Requirement already satisfied: jupyterlab-widgets>=1.0.0 in /opt/conda/lib/python3.7/site-packages (from ipywidgets->jupyter->autoviml==0.1.680) (1.0.0)\n",
      "Requirement already satisfied: nbformat>=4.2.0 in /opt/conda/lib/python3.7/site-packages (from ipywidgets->jupyter->autoviml==0.1.680) (5.0.8)\n",
      "Requirement already satisfied: jupyter-core in /opt/conda/lib/python3.7/site-packages (from nbformat>=4.2.0->ipywidgets->jupyter->autoviml==0.1.680) (4.7.0)\n",
      "Requirement already satisfied: jsonschema!=2.5.0,>=2.4 in /opt/conda/lib/python3.7/site-packages (from nbformat>=4.2.0->ipywidgets->jupyter->autoviml==0.1.680) (3.2.0)\n",
      "Requirement already satisfied: pyrsistent>=0.14.0 in /opt/conda/lib/python3.7/site-packages (from jsonschema!=2.5.0,>=2.4->nbformat>=4.2.0->ipywidgets->jupyter->autoviml==0.1.680) (0.17.3)\n",
      "Requirement already satisfied: attrs>=17.4.0 in /opt/conda/lib/python3.7/site-packages (from jsonschema!=2.5.0,>=2.4->nbformat>=4.2.0->ipywidgets->jupyter->autoviml==0.1.680) (20.3.0)\n",
      "Requirement already satisfied: importlib-metadata in /opt/conda/lib/python3.7/site-packages (from jsonschema!=2.5.0,>=2.4->nbformat>=4.2.0->ipywidgets->jupyter->autoviml==0.1.680) (3.3.0)\n"
     ]
    },
    {
     "name": "stdout",
     "output_type": "stream",
     "text": [
      "Requirement already satisfied: jinja2 in /opt/conda/lib/python3.7/site-packages (from notebook->jupyter->autoviml==0.1.680) (2.11.2)\n",
      "Requirement already satisfied: Send2Trash in /opt/conda/lib/python3.7/site-packages (from notebook->jupyter->autoviml==0.1.680) (1.5.0)\n",
      "Requirement already satisfied: terminado>=0.8.1 in /opt/conda/lib/python3.7/site-packages (from notebook->jupyter->autoviml==0.1.680) (0.9.2)\n",
      "Requirement already satisfied: pyzmq>=17 in /opt/conda/lib/python3.7/site-packages (from notebook->jupyter->autoviml==0.1.680) (20.0.0)\n",
      "Requirement already satisfied: zipp>=0.5 in /opt/conda/lib/python3.7/site-packages (from importlib-metadata->jsonschema!=2.5.0,>=2.4->nbformat>=4.2.0->ipywidgets->jupyter->autoviml==0.1.680) (3.4.0)\n",
      "Requirement already satisfied: typing-extensions>=3.6.4 in /opt/conda/lib/python3.7/site-packages (from importlib-metadata->jsonschema!=2.5.0,>=2.4->nbformat>=4.2.0->ipywidgets->jupyter->autoviml==0.1.680) (3.7.4.3)\n",
      "Requirement already satisfied: MarkupSafe>=0.23 in /opt/conda/lib/python3.7/site-packages (from jinja2->notebook->jupyter->autoviml==0.1.680) (1.1.1)\n",
      "Requirement already satisfied: pyparsing!=2.0.4,!=2.1.2,!=2.1.6,>=2.0.3 in /opt/conda/lib/python3.7/site-packages (from matplotlib->autoviml==0.1.680) (2.4.7)\n",
      "Requirement already satisfied: cycler>=0.10 in /opt/conda/lib/python3.7/site-packages (from matplotlib->autoviml==0.1.680) (0.10.0)\n",
      "Requirement already satisfied: kiwisolver>=1.0.1 in /opt/conda/lib/python3.7/site-packages (from matplotlib->autoviml==0.1.680) (1.3.1)\n",
      "Requirement already satisfied: pillow>=6.2.0 in /opt/conda/lib/python3.7/site-packages (from matplotlib->autoviml==0.1.680) (7.2.0)\n",
      "Requirement already satisfied: mistune<2,>=0.8.1 in /opt/conda/lib/python3.7/site-packages (from nbconvert->jupyter->autoviml==0.1.680) (0.8.4)\n",
      "Requirement already satisfied: entrypoints>=0.2.2 in /opt/conda/lib/python3.7/site-packages (from nbconvert->jupyter->autoviml==0.1.680) (0.3)\n",
      "Requirement already satisfied: jupyterlab-pygments in /opt/conda/lib/python3.7/site-packages (from nbconvert->jupyter->autoviml==0.1.680) (0.1.2)\n",
      "Requirement already satisfied: testpath in /opt/conda/lib/python3.7/site-packages (from nbconvert->jupyter->autoviml==0.1.680) (0.4.4)\n",
      "Requirement already satisfied: bleach in /opt/conda/lib/python3.7/site-packages (from nbconvert->jupyter->autoviml==0.1.680) (3.2.1)\n",
      "Requirement already satisfied: defusedxml in /opt/conda/lib/python3.7/site-packages (from nbconvert->jupyter->autoviml==0.1.680) (0.6.0)\n",
      "Requirement already satisfied: pandocfilters>=1.4.1 in /opt/conda/lib/python3.7/site-packages (from nbconvert->jupyter->autoviml==0.1.680) (1.4.2)\n",
      "Requirement already satisfied: nbclient<0.6.0,>=0.5.0 in /opt/conda/lib/python3.7/site-packages (from nbconvert->jupyter->autoviml==0.1.680) (0.5.1)\n",
      "Requirement already satisfied: async-generator in /opt/conda/lib/python3.7/site-packages (from nbclient<0.6.0,>=0.5.0->nbconvert->jupyter->autoviml==0.1.680) (1.10)\n",
      "Requirement already satisfied: nest-asyncio in /opt/conda/lib/python3.7/site-packages (from nbclient<0.6.0,>=0.5.0->nbconvert->jupyter->autoviml==0.1.680) (1.4.3)\n",
      "Requirement already satisfied: webencodings in /opt/conda/lib/python3.7/site-packages (from bleach->nbconvert->jupyter->autoviml==0.1.680) (0.5.1)\n",
      "Requirement already satisfied: packaging in /opt/conda/lib/python3.7/site-packages (from bleach->nbconvert->jupyter->autoviml==0.1.680) (20.8)\n",
      "Requirement already satisfied: llvmlite<0.36,>=0.35.0 in /opt/conda/lib/python3.7/site-packages (from numba->shap>=0.36.0->autoviml==0.1.680) (0.35.0)\n",
      "Requirement already satisfied: retrying>=1.3.3 in /opt/conda/lib/python3.7/site-packages (from plotly->catboost->autoviml==0.1.680) (1.3.3)\n",
      "Requirement already satisfied: qtpy in /opt/conda/lib/python3.7/site-packages (from qtconsole->jupyter->autoviml==0.1.680) (1.9.0)\n",
      "Requirement already satisfied: requests in /opt/conda/lib/python3.7/site-packages (from vaderSentiment->autoviml==0.1.680) (2.25.1)\n",
      "Requirement already satisfied: urllib3<1.27,>=1.21.1 in /opt/conda/lib/python3.7/site-packages (from requests->vaderSentiment->autoviml==0.1.680) (1.26.2)\n",
      "Requirement already satisfied: chardet<5,>=3.0.2 in /opt/conda/lib/python3.7/site-packages (from requests->vaderSentiment->autoviml==0.1.680) (3.0.4)\n",
      "Requirement already satisfied: idna<3,>=2.5 in /opt/conda/lib/python3.7/site-packages (from requests->vaderSentiment->autoviml==0.1.680) (2.10)\n",
      "Requirement already satisfied: certifi>=2017.4.17 in /opt/conda/lib/python3.7/site-packages (from requests->vaderSentiment->autoviml==0.1.680) (2020.12.5)\n",
      "Building wheels for collected packages: autoviml\n",
      "  Building wheel for autoviml (setup.py) ... \u001b[?25ldone\n",
      "\u001b[?25h  Created wheel for autoviml: filename=autoviml-0.1.680-py3-none-any.whl size=125428 sha256=6ae6879b6dff847cdf245f1de032e797ee35d48f89d95a376f1c7c8c8580a4ba\n",
      "  Stored in directory: /tmp/pip-ephem-wheel-cache-cjui1122/wheels/0d/14/68/1dca83f0c2e52ab7e9ecc443a417360e9ecd89117f6f264b7d\n",
      "Successfully built autoviml\n",
      "Installing collected packages: soupsieve, xlrd, vaderSentiment, beautifulsoup4, autoviml\n",
      "Successfully installed autoviml-0.1.680 beautifulsoup4-4.9.3 soupsieve-2.2.1 vaderSentiment-3.3.2 xlrd-2.0.1\n",
      "Note: you may need to restart the kernel to use updated packages.\n"
     ]
    }
   ],
   "source": [
    "pip install git+https://github.com/AutoViML/Auto_ViML.git"
   ]
  },
  {
   "cell_type": "code",
   "execution_count": 25,
   "metadata": {},
   "outputs": [],
   "source": [
    "train = pd.concat([X_train, y_train], axis = 1)"
   ]
  },
  {
   "cell_type": "code",
   "execution_count": null,
   "metadata": {},
   "outputs": [],
   "source": [
    "train.isna().sum()"
   ]
  },
  {
   "cell_type": "code",
   "execution_count": 24,
   "metadata": {},
   "outputs": [],
   "source": [
    "test = pd.concat([X_test, y_test], axis = 1)"
   ]
  },
  {
   "cell_type": "code",
   "execution_count": 26,
   "metadata": {},
   "outputs": [],
   "source": [
    "test = test.dropna()"
   ]
  },
  {
   "cell_type": "code",
   "execution_count": null,
   "metadata": {},
   "outputs": [],
   "source": [
    "test.isna().sum()"
   ]
  },
  {
   "cell_type": "code",
   "execution_count": 27,
   "metadata": {},
   "outputs": [],
   "source": [
    "sample_submission=''\n",
    "scoring_parameter = 'balanced-accuracy'\n",
    "target = \"e_signed\""
   ]
  },
  {
   "cell_type": "code",
   "execution_count": 28,
   "metadata": {},
   "outputs": [
    {
     "name": "stdout",
     "output_type": "stream",
     "text": [
      "Imported Auto_ViML version: 0.1.680. Call using:\n",
      "             m, feats, trainm, testm = Auto_ViML(train, target, test,\n",
      "                            sample_submission='',\n",
      "                            scoring_parameter='', KMeans_Featurizer=False,\n",
      "                            hyper_param='RS',feature_reduction=True,\n",
      "                             Boosting_Flag='CatBoost', Binning_Flag=False,\n",
      "                            Add_Poly=0, Stacking_Flag=False,Imbalanced_Flag=False,\n",
      "                            verbose=1)\n",
      "            \n",
      "Now Auto_ViML can solve multi-label, multi-output problems. Also Auto_NLP included.\n",
      "To get the latest version, perform \"pip install autoviml --no-cache-dir --ignore-installed\"\n"
     ]
    },
    {
     "data": {
      "text/html": [
       "<style>.container { width:95% !important; }</style>"
      ],
      "text/plain": [
       "<IPython.core.display.HTML object>"
      ]
     },
     "metadata": {},
     "output_type": "display_data"
    },
    {
     "name": "stdout",
     "output_type": "stream",
     "text": [
      "Imported Auto_NLP version: 0.0.45.. Call using:\n",
      "     train_nlp, test_nlp, nlp_pipeline, predictions = Auto_NLP(\n",
      "                nlp_column, train, test, target, score_type='balanced_accuracy',\n",
      "                modeltype='Classification',top_num_features=200, verbose=0,\n",
      "                build_model=True)\n"
     ]
    }
   ],
   "source": [
    "from autoviml.Auto_ViML import Auto_ViML"
   ]
  },
  {
   "cell_type": "code",
   "execution_count": 29,
   "metadata": {
    "scrolled": false
   },
   "outputs": [
    {
     "name": "stdout",
     "output_type": "stream",
     "text": [
      "##############  D A T A   S E T  A N A L Y S I S  #######################\n",
      "ALERT! Changing hyperparameter search to RS. Otherwise XGBoost will take too long for 10,000+ rows.\n",
      "Training Set Shape = (12535, 20)\n",
      "    Training Set Memory Usage = 1.91 MB\n",
      "Test Set Shape = (1609, 20)\n",
      "    Test Set Memory Usage = 0.26 MB\n",
      "Single_Label Target: ['e_signed']\n",
      "\n",
      "################ Binary_Classification VISUALIZATION Started #####################\n",
      "Random shuffling the data set before training\n",
      "    Using RandomizedSearchCV for Hyper Parameter Tuning. This is 3X faster than GridSearchCV...\n",
      "       Class  -> Counts -> Percent\n",
      "           0:    5799  ->   46.3%\n",
      "           1:    6736  ->   53.7%\n",
      "    Target e_signed is already numeric. No transformation done.\n",
      "Alert! Rare Class is not 1 but 0 in this data set\n",
      "############## C L A S S I F Y I N G  V A R I A B L E S  ####################\n",
      "Classifying variables in data set...\n",
      "    19 Predictors classified...\n",
      "        This does not include the Target column(s)\n",
      "    No variables removed since no ID or low-information variables found in data set\n",
      "Number of Processors on this device = 1\n",
      "CPU available\n",
      "    No GPU active on this device\n",
      "#############     D A T A    P R E P A R A T I O N   AND C L E A N I N G     #############\n",
      "No Missing Values in train data set\n",
      "    Test data has no missing values. Continuing...\n",
      "    Completed Label Encoding and Filling of Missing Values for Train and Test Data\n",
      "Binary_Classification problem: hyperparameters are being optimized for balanced_accuracy\n",
      "############# R E M O V I N G   H I G H L Y  C O R R E L A T E D    V A R S #################\n",
      "Removing highly correlated variables using SULA method among (19) numeric variables\n",
      "    No numeric vars removed since none have high correlation with each other in this data...\n",
      "Splitting features into float and categorical (integer) variables:\n",
      "    (6) float variables ...\n",
      "    (13) categorical vars...\n",
      "############## F E A T U R E   S E L E C T I O N    BY   X G B O O S T    ####################\n",
      "Current number of predictors = 19 \n",
      "    Finding Important Features using Boosted Trees algorithm...\n",
      "        using 19 variables...\n",
      "        using 15 variables...\n",
      "        using 11 variables...\n",
      "        using 7 variables...\n",
      "        using 3 variables...\n",
      "Found 15 important features\n",
      "    Performing limited feature engineering for binning, add_poly and KMeans_Featurizer flags  ...\n",
      "    Train CV Split completed with TRAIN rows =  10028 , CV rows =  2507\n",
      "    Binning_Flag set to False or there are no float vars in data set to be binned\n",
      "    KMeans_Featurizer set to False or there are no float variables in data\n",
      "Performing MinMax scaling of train and validation data\n",
      "############### XGBoost M O D E L   B U I L D I N G  B E G I N S  ####################\n",
      "Rows in Train data set = 10028\n",
      "  Features in Train data set = 15\n",
      "    Rows in held-out data set = 2507\n",
      "Finding Best Model and Hyper Parameters for XGBoost model...\n",
      "    Baseline Accuracy Needed for Model = 53.74%\n",
      "    CPU Count = 4 in this device\n",
      "Using XGBoost Model, Estimated Training time = 1.88 mins\n",
      "    Actual training time (in seconds): 3096\n",
      "###########  Single_Label  M O D E L   R E S U L T S #################\n",
      "5-fold Cross Validation  balanced-accuracy = 63.2%\n",
      "    Best Parameters for Model = {'gamma': 8, 'learning_rate': 0.031446387626298145, 'max_depth': 7, 'n_estimators': 229}\n",
      "Finding Best Threshold for Highest F1 Score...\n",
      "    Using threshold=0.5. However, 0.048 provides better F1=0.70 for rare class...\n",
      "########################################################\n",
      "XGBoost Model Prediction Results on Held Out CV Data Set:\n",
      "    Regular Accuracy Score = 46.3%\n",
      "Balanced Accuracy = 62.63% with Threshold = 0.50\n",
      "Confusion Matrix:\n",
      "[[640 520]\n",
      " [403 944]]\n",
      "              precision    recall  f1-score   support\n",
      "\n",
      "           0       0.61      0.55      0.58      1160\n",
      "           1       0.64      0.70      0.67      1347\n",
      "\n",
      "    accuracy                           0.63      2507\n",
      "   macro avg       0.63      0.63      0.63      2507\n",
      "weighted avg       0.63      0.63      0.63      2507\n",
      "\n",
      "Balanced Accuracy = 50.00% with Threshold = 0.05\n",
      "Confusion Matrix:\n",
      "[[1160    0]\n",
      " [1347    0]]\n",
      "              precision    recall  f1-score   support\n",
      "\n",
      "           0       0.46      1.00      0.63      1160\n",
      "           1       0.00      0.00      0.00      1347\n",
      "\n",
      "    accuracy                           0.46      2507\n",
      "   macro avg       0.23      0.50      0.32      2507\n",
      "weighted avg       0.21      0.46      0.29      2507\n",
      "\n",
      "#####################################################################\n",
      "Regular threshold = 0.50 is better\n",
      "################# E N S E M B L E  M O D E L  ##################\n",
      "Time taken = 5 seconds\n",
      "Based on trying multiple models, Best type of algorithm for this data set is Bagging_Classifier\n",
      "#############################################################################\n",
      "    Displaying results of weighted average ensemble of 5 classifiers\n",
      "After multiple models, Ensemble Model Results:\n",
      "Binary Class Model Metrics Report\n",
      "#####################################################\n",
      "    Accuracy          = 46.3%\n",
      "    Balanced Accuracy = 50.0%\n",
      "    Precision         = 0.0%\n",
      "    Average Precision = 23.1%\n",
      "    Recall            = 0.0%\n",
      "    F1 Score          = 0.0%\n",
      "#####################################################\n",
      "              precision    recall  f1-score   support\n",
      "\n",
      "           0       0.46      1.00      0.63      1160\n",
      "           1       0.00      0.00      0.00      1347\n",
      "\n",
      "    accuracy                           0.46      2507\n",
      "   macro avg       0.23      0.50      0.32      2507\n",
      "weighted avg       0.21      0.46      0.29      2507\n",
      "\n",
      "[[1160    0]\n",
      " [1347    0]]\n",
      "#############################################################################\n",
      "Single Model is better than Ensembling Models for this data set.\n",
      "    Time taken for this Target (in seconds) = 3115\n",
      "    Binning_Flag set to False or there are no float vars in data set to be binned\n",
      "Performing MinMax scaling of train and test data...\n",
      "#####   T R A I N I N G   M O D E L   O N    F U L L   T R A I N  D A T A  #############\n",
      "     Actual Training time taken in seconds = 4\n",
      "Training of models completed. Now starting predictions on test data...\n",
      "    Making test Data predictions using regular Threshold = 0.500\n",
      "    Calculating weighted average ensemble of 5 classifiers\n",
      "    Plotting Feature Importances to explain the output of model\n",
      "Could not draw feature importance plot due to an error\n",
      "############### P R E D I C T I O N  O N  T E S T   C O M P L E T E D  #################\n",
      "    Time taken thus far (in seconds) = 3125\n",
      "Writing Output files to disk...\n",
      "    Saving predictions to ./e_signed/e_signed_Binary_Classification_test_modified.csv\n",
      "    Saving predictions to ./e_signed/e_signed_Binary_Classification_submission.csv\n",
      "    Saving predictions to ./e_signed/e_signed_Binary_Classification_train_modified.csv\n",
      "###############  C O M P L E T E D  ################\n",
      "Time Taken in mins = 52.1 for the Entire Process\n"
     ]
    },
    {
     "data": {
      "image/png": "[encoded data removed]",
      "text/plain": [
       "<Figure size 720x720 with 1 Axes>"
      ]
     },
     "metadata": {},
     "output_type": "display_data"
    },
    {
     "data": {
      "image/png": "[encoded data removed]",
      "text/plain": [
       "<Figure size 720x360 with 1 Axes>"
      ]
     },
     "metadata": {},
     "output_type": "display_data"
    }
   ],
   "source": [
    "model, features, train_modified, test_modified = Auto_ViML(train, \n",
    "                                                           target, \n",
    "                                                           test, \n",
    "                                                           sample_submission,\n",
    "                                                           scoring_parameter=scoring_parameter,\n",
    "                                                           hyper_param='RS',\n",
    "                                                           feature_reduction=True,\n",
    "                                                           Boosting_Flag=True,\n",
    "                                                           Binning_Flag=False,\n",
    "                                                           Add_Poly=0, \n",
    "                                                           Stacking_Flag=False,\n",
    "                                                           Imbalanced_Flag=False,\n",
    "                                                           verbose=0)"
   ]
  },
  {
   "cell_type": "code",
   "execution_count": 68,
   "metadata": {},
   "outputs": [],
   "source": [
    "X_train = pd.get_dummies(X_train, \"pay_schedule\")"
   ]
  },
  {
   "cell_type": "code",
   "execution_count": 71,
   "metadata": {},
   "outputs": [],
   "source": [
    "X_test = pd.get_dummies(X_test, \"pay_schedule\")"
   ]
  },
  {
   "cell_type": "code",
   "execution_count": 72,
   "metadata": {},
   "outputs": [
    {
     "data": {
      "text/plain": [
       "XGBClassifier(base_score=0.5, booster='gbtree', colsample_bylevel=1,\n",
       "              colsample_bynode=1, colsample_bytree=0.7, gamma=8, gpu_id=0,\n",
       "              grow_policy='depthwise', importance_type='gain',\n",
       "              interaction_constraints='', learning_rate=0.031446387626298145,\n",
       "              max_delta_step=0, max_depth=7, max_leaves=0, min_child_weight=1,\n",
       "              missing=-999, monotone_constraints='()', n_estimators=229,\n",
       "              n_jobs=-1, nthread=-1, num_parallel_tree=1,\n",
       "              predictor='cpu_predictor', random_state=1, reg_alpha=0.5,\n",
       "              reg_lambda=0.5, scale_pos_weight=1, seed=1, subsample=0.7,\n",
       "              tree_method='hist', updater='grow_colmaker', ...)"
      ]
     },
     "execution_count": 72,
     "metadata": {},
     "output_type": "execute_result"
    }
   ],
   "source": [
    "model.fit(X_train, y_train)"
   ]
  },
  {
   "cell_type": "code",
   "execution_count": 74,
   "metadata": {},
   "outputs": [],
   "source": [
    "y_pred = model.predict(X_test)"
   ]
  },
  {
   "cell_type": "code",
   "execution_count": 75,
   "metadata": {},
   "outputs": [
    {
     "data": {
      "text/plain": [
       "0.6443327749860414"
      ]
     },
     "execution_count": 75,
     "metadata": {},
     "output_type": "execute_result"
    }
   ],
   "source": [
    "accuracy_score(y_test, y_pred)"
   ]
  },
  {
   "cell_type": "markdown",
   "metadata": {},
   "source": [
    "# <font color= darkblue><i> 3. Tpot(AutoML) Algorithm"
   ]
  },
  {
   "cell_type": "code",
   "execution_count": 80,
   "metadata": {},
   "outputs": [
    {
     "name": "stdout",
     "output_type": "stream",
     "text": [
      "Requirement already satisfied: deap in /opt/conda/lib/python3.7/site-packages (1.3.1)\n",
      "Requirement already satisfied: update_checker in /opt/conda/lib/python3.7/site-packages (0.18.0)\n",
      "Requirement already satisfied: tqdm in /opt/conda/lib/python3.7/site-packages (4.55.1)\n",
      "Requirement already satisfied: stopit in /opt/conda/lib/python3.7/site-packages (1.1.2)\n",
      "Requirement already satisfied: xgboost in /opt/conda/lib/python3.7/site-packages (1.3.3)\n",
      "Requirement already satisfied: numpy in /opt/conda/lib/python3.7/site-packages (from deap) (1.19.5)\n",
      "Requirement already satisfied: requests>=2.3.0 in /opt/conda/lib/python3.7/site-packages (from update_checker) (2.25.1)\n",
      "Requirement already satisfied: chardet<5,>=3.0.2 in /opt/conda/lib/python3.7/site-packages (from requests>=2.3.0->update_checker) (3.0.4)\n",
      "Requirement already satisfied: urllib3<1.27,>=1.21.1 in /opt/conda/lib/python3.7/site-packages (from requests>=2.3.0->update_checker) (1.26.2)\n",
      "Requirement already satisfied: certifi>=2017.4.17 in /opt/conda/lib/python3.7/site-packages (from requests>=2.3.0->update_checker) (2020.12.5)\n",
      "Requirement already satisfied: idna<3,>=2.5 in /opt/conda/lib/python3.7/site-packages (from requests>=2.3.0->update_checker) (2.10)\n",
      "Requirement already satisfied: scipy in /opt/conda/lib/python3.7/site-packages (from xgboost) (1.6.1)\n",
      "Collecting scikit-mdr\n",
      "  Downloading scikit-MDR-0.4.4.tar.gz (11 kB)\n",
      "Collecting skrebate\n",
      "  Downloading skrebate-0.62.tar.gz (19 kB)\n",
      "Requirement already satisfied: numpy in /opt/conda/lib/python3.7/site-packages (from scikit-mdr) (1.19.5)\n",
      "Requirement already satisfied: scipy in /opt/conda/lib/python3.7/site-packages (from scikit-mdr) (1.6.1)\n",
      "Requirement already satisfied: scikit-learn in /opt/conda/lib/python3.7/site-packages (from scikit-mdr) (0.24.1)\n",
      "Requirement already satisfied: matplotlib in /opt/conda/lib/python3.7/site-packages (from scikit-mdr) (3.3.3)\n",
      "Requirement already satisfied: kiwisolver>=1.0.1 in /opt/conda/lib/python3.7/site-packages (from matplotlib->scikit-mdr) (1.3.1)\n",
      "Requirement already satisfied: python-dateutil>=2.1 in /opt/conda/lib/python3.7/site-packages (from matplotlib->scikit-mdr) (2.8.1)\n",
      "Requirement already satisfied: pyparsing!=2.0.4,!=2.1.2,!=2.1.6,>=2.0.3 in /opt/conda/lib/python3.7/site-packages (from matplotlib->scikit-mdr) (2.4.7)\n",
      "Requirement already satisfied: cycler>=0.10 in /opt/conda/lib/python3.7/site-packages (from matplotlib->scikit-mdr) (0.10.0)\n",
      "Requirement already satisfied: pillow>=6.2.0 in /opt/conda/lib/python3.7/site-packages (from matplotlib->scikit-mdr) (7.2.0)\n",
      "Requirement already satisfied: six in /opt/conda/lib/python3.7/site-packages (from cycler>=0.10->matplotlib->scikit-mdr) (1.15.0)\n",
      "Requirement already satisfied: threadpoolctl>=2.0.0 in /opt/conda/lib/python3.7/site-packages (from scikit-learn->scikit-mdr) (2.1.0)\n",
      "Requirement already satisfied: joblib>=0.11 in /opt/conda/lib/python3.7/site-packages (from scikit-learn->scikit-mdr) (1.0.1)\n",
      "Building wheels for collected packages: scikit-mdr, skrebate\n",
      "  Building wheel for scikit-mdr (setup.py) ... \u001b[?25ldone\n",
      "\u001b[?25h  Created wheel for scikit-mdr: filename=scikit_MDR-0.4.4-py3-none-any.whl size=14636 sha256=a201019245c9b7551784c8f507decf366c7e29ba79afb3992dccfba98b17ed92\n",
      "  Stored in directory: /root/.cache/pip/wheels/32/d0/b5/3ac42d99dd9d9d02b8587d5ebb72b7b137ce0908ccfa5b8fa9\n",
      "  Building wheel for skrebate (setup.py) ... \u001b[?25ldone\n",
      "\u001b[?25h  Created wheel for skrebate: filename=skrebate-0.62-py3-none-any.whl size=29256 sha256=5c0145b1dcfc082640785b48ba9e0914863f5a3662bcae7e411a85ffb557e9ae\n",
      "  Stored in directory: /root/.cache/pip/wheels/4f/3b/07/22a9a01f3f25cd376122b5ef526737a44993b4c312e50916ed\n",
      "Successfully built scikit-mdr skrebate\n",
      "Installing collected packages: skrebate, scikit-mdr\n",
      "Successfully installed scikit-mdr-0.4.4 skrebate-0.62\n",
      "Requirement already satisfied: tpot in /opt/conda/lib/python3.7/site-packages (0.11.7)\n",
      "Requirement already satisfied: xgboost>=1.1.0 in /opt/conda/lib/python3.7/site-packages (from tpot) (1.3.3)\n",
      "Requirement already satisfied: scipy>=1.3.1 in /opt/conda/lib/python3.7/site-packages (from tpot) (1.6.1)\n",
      "Requirement already satisfied: deap>=1.2 in /opt/conda/lib/python3.7/site-packages (from tpot) (1.3.1)\n",
      "Requirement already satisfied: scikit-learn>=0.22.0 in /opt/conda/lib/python3.7/site-packages (from tpot) (0.24.1)\n",
      "Requirement already satisfied: numpy>=1.16.3 in /opt/conda/lib/python3.7/site-packages (from tpot) (1.19.5)\n",
      "Requirement already satisfied: update-checker>=0.16 in /opt/conda/lib/python3.7/site-packages (from tpot) (0.18.0)\n",
      "Requirement already satisfied: stopit>=1.1.1 in /opt/conda/lib/python3.7/site-packages (from tpot) (1.1.2)\n",
      "Requirement already satisfied: pandas>=0.24.2 in /opt/conda/lib/python3.7/site-packages (from tpot) (1.2.0)\n",
      "Requirement already satisfied: tqdm>=4.36.1 in /opt/conda/lib/python3.7/site-packages (from tpot) (4.55.1)\n",
      "Requirement already satisfied: joblib>=0.13.2 in /opt/conda/lib/python3.7/site-packages (from tpot) (1.0.1)\n",
      "Requirement already satisfied: python-dateutil>=2.7.3 in /opt/conda/lib/python3.7/site-packages (from pandas>=0.24.2->tpot) (2.8.1)\n",
      "Requirement already satisfied: pytz>=2017.3 in /opt/conda/lib/python3.7/site-packages (from pandas>=0.24.2->tpot) (2020.5)\n",
      "Requirement already satisfied: six>=1.5 in /opt/conda/lib/python3.7/site-packages (from python-dateutil>=2.7.3->pandas>=0.24.2->tpot) (1.15.0)\n",
      "Requirement already satisfied: threadpoolctl>=2.0.0 in /opt/conda/lib/python3.7/site-packages (from scikit-learn>=0.22.0->tpot) (2.1.0)\n",
      "Requirement already satisfied: requests>=2.3.0 in /opt/conda/lib/python3.7/site-packages (from update-checker>=0.16->tpot) (2.25.1)\n",
      "Requirement already satisfied: idna<3,>=2.5 in /opt/conda/lib/python3.7/site-packages (from requests>=2.3.0->update-checker>=0.16->tpot) (2.10)\n",
      "Requirement already satisfied: certifi>=2017.4.17 in /opt/conda/lib/python3.7/site-packages (from requests>=2.3.0->update-checker>=0.16->tpot) (2020.12.5)\n",
      "Requirement already satisfied: urllib3<1.27,>=1.21.1 in /opt/conda/lib/python3.7/site-packages (from requests>=2.3.0->update-checker>=0.16->tpot) (1.26.2)\n",
      "Requirement already satisfied: chardet<5,>=3.0.2 in /opt/conda/lib/python3.7/site-packages (from requests>=2.3.0->update-checker>=0.16->tpot) (3.0.4)\n"
     ]
    }
   ],
   "source": [
    "!pip install deap update_checker tqdm stopit xgboost\n",
    "!pip install scikit-mdr skrebate\n",
    "!pip install tpot"
   ]
  },
  {
   "cell_type": "code",
   "execution_count": 81,
   "metadata": {},
   "outputs": [],
   "source": [
    "from tpot import TPOTClassifier\n",
    "from tpot import TPOTRegressor"
   ]
  },
  {
   "cell_type": "code",
   "execution_count": 82,
   "metadata": {},
   "outputs": [],
   "source": [
    "tpot = TPOTRegressor(verbosity=2, max_time_mins=10, population_size=40, n_jobs=-1, random_state=42)"
   ]
  },
  {
   "cell_type": "code",
   "execution_count": 83,
   "metadata": {},
   "outputs": [
    {
     "data": {
      "application/vnd.jupyter.widget-view+json": {
       "model_id": "d7e37d2246924417a0bd74af12284daf",
       "version_major": 2,
       "version_minor": 0
      },
      "text/plain": [
       "Optimization Progress:   0%|          | 0/40 [00:00<?, ?pipeline/s]"
      ]
     },
     "metadata": {},
     "output_type": "display_data"
    },
    {
     "name": "stdout",
     "output_type": "stream",
     "text": [
      "\n",
      "10.01 minutes have elapsed. TPOT will close down.\n",
      "TPOT closed during evaluation in one generation.\n",
      "WARNING: TPOT may not provide a good pipeline if TPOT is stopped/interrupted in a early generation.\n",
      "\n",
      "\n",
      "TPOT closed prematurely. Will use the current best pipeline.\n",
      "\n",
      "Best pipeline: RandomForestRegressor(input_matrix, bootstrap=True, max_features=0.8, min_samples_leaf=10, min_samples_split=6, n_estimators=100)\n"
     ]
    },
    {
     "data": {
      "text/plain": [
       "TPOTRegressor(max_time_mins=10, n_jobs=-1, population_size=40, random_state=42,\n",
       "              verbosity=2)"
      ]
     },
     "execution_count": 83,
     "metadata": {},
     "output_type": "execute_result"
    }
   ],
   "source": [
    "tpot.fit(X_train, y_train)"
   ]
  },
  {
   "cell_type": "code",
   "execution_count": 99,
   "metadata": {},
   "outputs": [],
   "source": [
    "y_tpot_predict = tpot.predict(X_test)"
   ]
  },
  {
   "cell_type": "code",
   "execution_count": 100,
   "metadata": {},
   "outputs": [],
   "source": [
    "y_tpot_pred = []\n",
    "for predict in y_tpot_predict:\n",
    "    y_tpot_pred.append(round(predict))"
   ]
  },
  {
   "cell_type": "code",
   "execution_count": 102,
   "metadata": {},
   "outputs": [
    {
     "data": {
      "text/plain": [
       "0.6259073143495254"
      ]
     },
     "execution_count": 102,
     "metadata": {},
     "output_type": "execute_result"
    }
   ],
   "source": [
    "accuracy_score(y_test, y_tpot_pred)"
   ]
  },
  {
   "cell_type": "markdown",
   "metadata": {},
   "source": [
    "## <font color= darkblue><i> SVC Algorithm"
   ]
  },
  {
   "cell_type": "code",
   "execution_count": 103,
   "metadata": {},
   "outputs": [
    {
     "data": {
      "text/plain": [
       "SVC()"
      ]
     },
     "execution_count": 103,
     "metadata": {},
     "output_type": "execute_result"
    }
   ],
   "source": [
    "from sklearn.svm import SVC\n",
    "\n",
    "svc_model = SVC()\n",
    "svc_model.fit(X_train, y_train)"
   ]
  },
  {
   "cell_type": "code",
   "execution_count": 104,
   "metadata": {},
   "outputs": [],
   "source": [
    "y_svs_pred = svc_model.predict(X_test)"
   ]
  },
  {
   "cell_type": "code",
   "execution_count": 105,
   "metadata": {},
   "outputs": [
    {
     "data": {
      "text/plain": [
       "0.5535082821514983"
      ]
     },
     "execution_count": 105,
     "metadata": {},
     "output_type": "execute_result"
    }
   ],
   "source": [
    "accuracy_score(y_test, y_svs_pred)"
   ]
  },
  {
   "cell_type": "markdown",
   "metadata": {},
   "source": [
    "## <font color= darkblue><i> XGBoost Algorithm"
   ]
  },
  {
   "cell_type": "code",
   "execution_count": 109,
   "metadata": {},
   "outputs": [],
   "source": [
    "import xgboost as xgb"
   ]
  },
  {
   "cell_type": "code",
   "execution_count": 110,
   "metadata": {},
   "outputs": [
    {
     "data": {
      "text/plain": [
       "XGBClassifier(base_score=0.5, booster='gbtree', colsample_bylevel=1,\n",
       "              colsample_bynode=1, colsample_bytree=1, gamma=0, gpu_id=-1,\n",
       "              importance_type='gain', interaction_constraints='',\n",
       "              learning_rate=0.1, max_delta_step=0, max_depth=5,\n",
       "              min_child_weight=1, missing=nan, monotone_constraints='()',\n",
       "              n_estimators=100, n_jobs=4, num_parallel_tree=1,\n",
       "              objective='reg:squarederror', random_state=0, reg_alpha=0,\n",
       "              reg_lambda=1, scale_pos_weight=1, subsample=1,\n",
       "              tree_method='exact', validate_parameters=1, verbosity=None)"
      ]
     },
     "execution_count": 110,
     "metadata": {},
     "output_type": "execute_result"
    }
   ],
   "source": [
    "model = xgb.XGBClassifier(objective ='reg:squarederror', learning_rate = 0.1, max_depth = 5, n_estimators = 100)\n",
    "\n",
    "model.fit(X_train, y_train)"
   ]
  },
  {
   "cell_type": "code",
   "execution_count": 111,
   "metadata": {},
   "outputs": [
    {
     "data": {
      "text/plain": [
       "0.6463800483900987"
      ]
     },
     "execution_count": 111,
     "metadata": {},
     "output_type": "execute_result"
    }
   ],
   "source": [
    "y_xgb_pred = model.predict(X_test)\n",
    "accuracy_score(y_test, y_xgb_pred)"
   ]
  },
  {
   "cell_type": "markdown",
   "metadata": {},
   "source": [
    "## <font color= darkblue><i> Logistic Regression Algorithm"
   ]
  },
  {
   "cell_type": "code",
   "execution_count": 112,
   "metadata": {},
   "outputs": [
    {
     "data": {
      "text/plain": [
       "0.6463800483900987"
      ]
     },
     "execution_count": 112,
     "metadata": {},
     "output_type": "execute_result"
    }
   ],
   "source": [
    "from sklearn.linear_model import LogisticRegression\n",
    "logreg = LogisticRegression()\n",
    "logreg.fit(X_train,y_train)\n",
    "y_log_pred = model.predict(X_test)\n",
    "accuracy_score(y_test, y_log_pred)"
   ]
  },
  {
   "cell_type": "markdown",
   "metadata": {},
   "source": [
    "## <font color= darkblue><i> Random Forest Algorithm"
   ]
  },
  {
   "cell_type": "code",
   "execution_count": 114,
   "metadata": {},
   "outputs": [
    {
     "data": {
      "text/plain": [
       "0.6238600409454681"
      ]
     },
     "execution_count": 114,
     "metadata": {},
     "output_type": "execute_result"
    }
   ],
   "source": [
    "from sklearn.ensemble import RandomForestClassifier\n",
    "rf = RandomForestClassifier()\n",
    "rf.fit(X_train, y_train)\n",
    "y_rf_pred = rf.predict(X_test)\n",
    "accuracy_score(y_test, y_rf_pred)"
   ]
  },
  {
   "cell_type": "markdown",
   "metadata": {},
   "source": [
    "# <font color= darkblue><i>  Comparing the accuracies:"
   ]
  },
  {
   "cell_type": "code",
   "execution_count": 28,
   "metadata": {},
   "outputs": [],
   "source": [
    "import pandas as pd \n",
    "result=pd.DataFrame(index=[\"MLJar (Best model:Ensemble)\",\"AutoViMl (BestMmodel:Bagging_Classifier)\",\"TPOT(BestMmodel: RandomForestRegressor)\",\n",
    "                           \"SVC\",\"XGBoost\",\"Logistic\",\"Random Forest\"],\n",
    "                columns=[\"Accuracy Score(%)\"])"
   ]
  },
  {
   "cell_type": "code",
   "execution_count": 29,
   "metadata": {},
   "outputs": [
    {
     "data": {
      "text/html": [
       "<div>\n",
       "<style scoped>\n",
       "    .dataframe tbody tr th:only-of-type {\n",
       "        vertical-align: middle;\n",
       "    }\n",
       "\n",
       "    .dataframe tbody tr th {\n",
       "        vertical-align: top;\n",
       "    }\n",
       "\n",
       "    .dataframe thead th {\n",
       "        text-align: right;\n",
       "    }\n",
       "</style>\n",
       "<table border=\"1\" class=\"dataframe\">\n",
       "  <thead>\n",
       "    <tr style=\"text-align: right;\">\n",
       "      <th></th>\n",
       "      <th>Accuracy Score(%)</th>\n",
       "    </tr>\n",
       "  </thead>\n",
       "  <tbody>\n",
       "    <tr>\n",
       "      <th>MLJar (Best model:Ensemble)</th>\n",
       "      <td>64.76</td>\n",
       "    </tr>\n",
       "    <tr>\n",
       "      <th>AutoViMl (BestMmodel:Bagging_Classifier)</th>\n",
       "      <td>64.43</td>\n",
       "    </tr>\n",
       "    <tr>\n",
       "      <th>TPOT(BestMmodel: RandomForestRegressor)</th>\n",
       "      <td>62.59</td>\n",
       "    </tr>\n",
       "    <tr>\n",
       "      <th>SVC</th>\n",
       "      <td>55.35</td>\n",
       "    </tr>\n",
       "    <tr>\n",
       "      <th>XGBoost</th>\n",
       "      <td>64.63</td>\n",
       "    </tr>\n",
       "    <tr>\n",
       "      <th>Logistic</th>\n",
       "      <td>64.63</td>\n",
       "    </tr>\n",
       "    <tr>\n",
       "      <th>Random Forest</th>\n",
       "      <td>62.38</td>\n",
       "    </tr>\n",
       "  </tbody>\n",
       "</table>\n",
       "</div>"
      ],
      "text/plain": [
       "                                          Accuracy Score(%)\n",
       "MLJar (Best model:Ensemble)                           64.76\n",
       "AutoViMl (BestMmodel:Bagging_Classifier)              64.43\n",
       "TPOT(BestMmodel: RandomForestRegressor)               62.59\n",
       "SVC                                                   55.35\n",
       "XGBoost                                               64.63\n",
       "Logistic                                              64.63\n",
       "Random Forest                                         62.38"
      ]
     },
     "execution_count": 29,
     "metadata": {},
     "output_type": "execute_result"
    }
   ],
   "source": [
    "\n",
    "result[\"Accuracy Score(%)\"]=[64.76,64.43,62.59,55.35,64.63,64.63,62.38]\n",
    "result"
   ]
  },
  {
   "cell_type": "markdown",
   "metadata": {},
   "source": [
    "### <font color= darkblue><i> MLJar AutoML Library(Best model:Ensemble)  gives highest performance 64.76%"
   ]
  },
  {
   "cell_type": "code",
   "execution_count": null,
   "metadata": {},
   "outputs": [],
   "source": []
  }
 ],
 "metadata": {
  "kernelspec": {
   "display_name": "Python 3 (ipykernel)",
   "language": "python",
   "name": "python3"
  },
  "language_info": {
   "codemirror_mode": {
    "name": "ipython",
    "version": 3
   },
   "file_extension": ".py",
   "mimetype": "text/x-python",
   "name": "python",
   "nbconvert_exporter": "python",
   "pygments_lexer": "ipython3",
   "version": "3.9.15"
  }
 },
 "nbformat": 4,
 "nbformat_minor": 4
}
